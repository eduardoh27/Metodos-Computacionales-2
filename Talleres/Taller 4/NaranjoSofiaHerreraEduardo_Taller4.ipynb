{
  "cells": [
    {
      "cell_type": "markdown",
      "metadata": {
        "id": "0Z8Dn_z6Mb9b"
      },
      "source": [
        "# Taller 4\n",
        "\n",
        "## Métodos Computacionales 2\n",
        "\n",
        "Instrucciones: Suba el jupyter notebook **.ipynb** en la actividad de bloque neon. El archivo debe ser nombrado ApellidoNombreApellidoNombre_Taller4.ipynb, con su primer Apellido y Nombre. **El archivo debe poder correr en el binder del curso** \n",
        "\n",
        "Si un ejercicio demora **más de 10 segundos** en correr se considerará **incorrecto**.\n",
        "\n",
        "La simulación no debe demorar más de **50 segundos** en google colab o se considerará incorrecto. \n",
        "\n",
        "No modifique el cuaderno, ni los modos de lectura de los archivos.\n",
        "\n",
        "**Entrega: Sábado 27 de Mayo 11:59 pm**"
      ]
    },
    {
      "cell_type": "markdown",
      "metadata": {
        "id": "VvtNBbxJ0n7a"
      },
      "source": [
        "## Librerias"
      ]
    },
    {
      "cell_type": "code",
      "execution_count": null,
      "metadata": {
        "id": "mmgcGeXk0pPA",
        "vscode": {
          "languageId": "python"
        }
      },
      "outputs": [],
      "source": [
        "import time\n",
        "import numpy as np\n",
        "\n",
        "import matplotlib.pyplot as plt\n",
        "from matplotlib import animation\n",
        "from matplotlib import cm\n",
        "from matplotlib import colors\n",
        "plt.style.use('dark_background')"
      ]
    },
    {
      "cell_type": "code",
      "execution_count": null,
      "metadata": {
        "id": "0dwmjZUoDvLX",
        "vscode": {
          "languageId": "python"
        }
      },
      "outputs": [],
      "source": [
        "from matplotlib import rc\n",
        "rc(\"animation\", html = \"jshtml\")"
      ]
    },
    {
      "cell_type": "markdown",
      "metadata": {
        "id": "iBApbCINk-Rx"
      },
      "source": [
        "## Problema 1 (2/5) puntos\n",
        "\n",
        "Dada la ecuación de onda bidimensional, \n",
        "\n",
        "$$ \\frac{\\partial^2 u}{\\partial t^2} =\n",
        "{c^2} \\left(\\frac{\\partial^2 u}{\\partial x^2} + \\frac{\\partial^2 u}{\\partial y^2} \\right)$$\n",
        "\n",
        "Demuestre que la solución de la ecuación de onda bidimensional con diferencias finitas para extremos fijos está dada por, \n",
        "\n",
        "$$\n",
        "u^1_{i, j} = \\frac{a}{2}u^0_{i, j} + V^0_{i, j}\\Delta t + \\frac{r_x}{2}(u^0_{i+1, j} + u^0_{i-1, j}) + \\frac{r_y}{2}(u^0_{i, j+1}+u^0_{i, j-1})\n",
        "$$\n",
        "\n",
        "$$\n",
        "u^{n+1}_{i, j} = au^n_{i, j} - u_{i, j}^{n-1} + r_x(u^n_{i+1, j} + u^n_{i-1, j}) + r_y(u^n_{i, j+1}+u^n_{i, j-1})\n",
        "$$\n",
        "\n",
        "Donde, \n",
        "\n",
        "$$\n",
        "r_x = (\\Delta t)^2c^2/(\\Delta x)^2, \\quad r_y = (\\Delta t)^2c^2/(\\Delta y)^2\n",
        "$$\n",
        "\n",
        "$$\n",
        "a = 2(1 - r_x - r_y)\n",
        "$$\n",
        "\n",
        "Su demonstración aquí, \n",
        "\n",
        ".\n",
        "\n",
        "\n",
        ".\n",
        "\n",
        "\n",
        ".\n",
        "\n",
        "\n",
        ".\n",
        "\n",
        "\n",
        ".\n",
        "\n",
        "\n",
        "\n",
        "\n"
      ]
    },
    {
      "attachments": {},
      "cell_type": "markdown",
      "metadata": {
        "id": "MELZuUDHuP71"
      },
      "source": [
        "\n",
        "## Problema 2 (3/5) Puntos\n",
        "\n",
        "Solucionar la ecuación de onda bidimensional con extremos fijos en cero para la posición inicial $p(x,y)$.\n",
        "\n",
        "$$p(x,y) = \\frac{1}{\\sqrt{\\sigma}}e^\\left(-{\\frac{(x-0.5)^2+(y-0.5)^2}{\\sigma^2}}\\right)$$\n",
        "\n",
        "con $\\sigma = 0.1$, en el dominio $x \\in [0, 1]$,  $y \\in [0, 1]$ y velocidad inicial de cada nodo igual a cero para $t=0$. Use los valores de la tabla. Realice una animación en perspectiva 3D, para que la simulación no demore tanto realice la simulación con solo las imagenes de cada $50*dt$. Use el siguiente [notebook](https://github.com/diegour1/MetodosComputacionales2/blob/main/Notebooks/11%20-%20ecuacion_onda_1D.ipynb) como guía. \n",
        "\n",
        "**Tabla:**\n",
        "\n",
        "|  |                                        |\n",
        "|-----------------------|----------------------------------------|\n",
        "| $$c$$                 |                                $$1.8$$ |\n",
        "| $$dx$$                |                               $$0.05$$ |\n",
        "| $$dy$$                |                               $$0.05$$ |\n",
        "| $$t_{total}$$           |                                  $$0.5$$ |\n",
        "| $$dt$$                | $$\\frac{1}{10c}\\frac{dx^2dy^2}{dx^2+dy^2}$$ |"
      ]
    },
    {
      "cell_type": "markdown",
      "metadata": {
        "id": "R3kXKLjxP4ks"
      },
      "source": [
        "En la calificación el notebook se correra en Google Colab, de cualquier forma adjunte la animación en un video de youtube público, debe obtener un video como el que se muestra,\n",
        "\n",
        "Cambie este link por su video de youtube, \n",
        "\n",
        "Espacio para el video de youtube\n",
        "\n",
        "https://www.youtube.com/watch?v=_Rh8NY37p1U"
      ]
    },
    {
      "cell_type": "code",
      "execution_count": null,
      "metadata": {
        "colab": {
          "base_uri": "https://localhost:8080/"
        },
        "id": "AsF4aCkdP3x9",
        "outputId": "789ca9f6-295a-45a5-80fa-2874ce61b2e1",
        "vscode": {
          "languageId": "python"
        }
      },
      "outputs": [
        {
          "name": "stdout",
          "output_type": "stream",
          "text": [
            "Tiempo usado en calcular la solución(s): 4.914872646331787\n",
            "U.shape: (7199, 20, 20)\n"
          ]
        }
      ],
      "source": [
        "## Su codigo aqui\n"
      ]
    },
    {
      "cell_type": "code",
      "execution_count": null,
      "metadata": {
        "colab": {
          "base_uri": "https://localhost:8080/"
        },
        "id": "Ag-Hg8Xps2Iv",
        "outputId": "87f0380b-8237-4ccf-c207-43657029829c",
        "vscode": {
          "languageId": "python"
        }
      },
      "outputs": [
        {
          "name": "stdout",
          "output_type": "stream",
          "text": [
            "Tiempo usado en crear la animación (s): 28.80029320716858\n"
          ]
        }
      ],
      "source": [
        "print(\"Tiempo usado en crear la animación (s):\", time.time() - start_time)"
      ]
    }
  ],
  "metadata": {
    "colab": {
      "provenance": []
    },
    "kernelspec": {
      "display_name": "Python 3",
      "name": "python3"
    }
  },
  "nbformat": 4,
  "nbformat_minor": 0
}
