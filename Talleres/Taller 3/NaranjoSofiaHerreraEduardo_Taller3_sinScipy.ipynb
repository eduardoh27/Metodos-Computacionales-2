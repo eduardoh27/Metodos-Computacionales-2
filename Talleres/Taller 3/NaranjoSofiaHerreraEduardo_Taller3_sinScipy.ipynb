{
  "cells": [
    {
      "cell_type": "markdown",
      "metadata": {
        "id": "0Z8Dn_z6Mb9b"
      },
      "source": [
        "# Taller 3\n",
        "\n",
        "## Métodos Computacionales 2\n",
        "\n",
        "Instrucciones: Suba el jupyter notebook **.ipynb** en la actividad de bloque neon. El archivo debe ser nombrado ApellidoNombreApellidoNombre_Taller3.ipynb, con su primer Apellido y Nombre de cada integrante de la pareja. **El archivo debe poder correr en google colab** \n",
        "\n",
        "Si un ejercicio demora **más de 10 segundos** en correr se considerará **incorrecto**.\n",
        "\n",
        "La simulación no debe demorar más de **30 segundos** en compilar y correr.\n",
        "\n",
        "No modifique el cuaderno, ni los modos de lectura de los archivos.\n",
        "\n",
        "**Entrega: Jueves 18 de Mayo 11:59 pm**"
      ]
    },
    {
      "cell_type": "markdown",
      "metadata": {
        "id": "VvtNBbxJ0n7a"
      },
      "source": [
        "## Librerias"
      ]
    },
    {
      "cell_type": "code",
      "execution_count": 1,
      "metadata": {
        "id": "mmgcGeXk0pPA"
      },
      "outputs": [],
      "source": [
        "import time\n",
        "import numpy as np\n",
        "import scipy as sci\n",
        "import scipy.integrate as integrate\n",
        "import sympy as sym\n",
        "from sympy import symbols\n",
        "import pandas as pd\n",
        "\n",
        "import matplotlib.pyplot as plt\n",
        "from matplotlib import animation\n",
        "plt.style.use('dark_background')"
      ]
    },
    {
      "cell_type": "code",
      "execution_count": 2,
      "metadata": {
        "id": "0dwmjZUoDvLX"
      },
      "outputs": [],
      "source": [
        "from matplotlib import rc\n",
        "rc(\"animation\", html = \"jshtml\")\n",
        "sym.init_printing()\n",
        "#matplotlib.rcParams['animation.embed_limit'] = 2**128"
      ]
    },
    {
      "cell_type": "markdown",
      "metadata": {
        "id": "YF78rpJBEGqu"
      },
      "source": [
        "# Problema 1\n",
        "\n",
        "El siguiente codigo de C++ se obtienen los puntos de un tiro parabólico con los siguientes parametros, \n",
        "\n",
        "$x_0 = 0\\text{ m }$,\n",
        "$y_0 = 10\\text{ m }$,\n",
        "$v_{x0} = 10\\text{ m/s }$,\n",
        "$v_{y0} = 10\\text{ m }$,\n",
        "$t_f = 2.733 \\text{ s }$, \n",
        "$dt = 0.01 \\text{ s }$\n",
        "\n",
        "y tomando gravedad como, \n",
        "\n",
        "$g = 10 \\text{ m/s }^2$\n",
        "\n",
        "Además el código en python, y el script gráfican en matplotlib estos puntos, \n",
        "\n",
        "problema: Modificar el código de `C++` para incluir un tiro parabólico con fricción del aire y con las mismas condiciones iniciales usando el método de Runge-Kutta de 4to orden, al final debe gráficar el tiro parabólico normal y el tiro parabólico con fricción en la misma gráfica. \n",
        "\n",
        "Tome el coeficiente de fricción del aire y la masa como se definen en el archivo de C++.\n",
        "\n",
        "$b = 0.2 \\text{ kg/s }$,\n",
        "$m = 1 \\text{ kg }$.\n",
        "\n",
        "El método de Runge-Kutta para ecuaciones diferenciales de segundo orden tiene la forma, \n",
        "\n",
        " ![](https://raw.githubusercontent.com/diegour1/MetodosComputacionales2/main/Datafiles/runge%20kutta%202nd%20order.png)\n"
      ]
    },
    {
      "cell_type": "code",
      "execution_count": null,
      "metadata": {
        "colab": {
          "base_uri": "https://localhost:8080/"
        },
        "id": "rlVwvFt7EIew",
        "outputId": "996bd4ef-c8a3-49ca-fa3f-5190669faa70"
      },
      "outputs": [
        {
          "name": "stdout",
          "output_type": "stream",
          "text": [
            "Writing parabolico.cpp\n"
          ]
        }
      ],
      "source": [
        "%%writefile parabolico.cpp\n",
        "\n",
        "#include <iostream>\n",
        "#include <vector>\n",
        "#include <fstream>\n",
        "#include <cmath>\n",
        "#define g 10.0\n",
        "#define m 1\n",
        "#define b 0.2\n",
        "\n",
        "using namespace std;\n",
        "    \n",
        "double fx(double vx) {\n",
        "    return -b*vx/m;\n",
        "}\n",
        "\n",
        "double fy(double vy) {\n",
        "    return -g -(b*vy/m);\n",
        "}\n",
        "    \n",
        "int main() {\n",
        "    float x_init = 0;\n",
        "    float y_init = 10;\n",
        "    float vx_init = 10;\n",
        "    float vy_init = 10;\n",
        "\n",
        "    float dt = 0.01;\n",
        "    float t_total = 2.733;\n",
        "    cout << \"total_time:\" <<  t_total << endl;\n",
        "    int N = t_total/dt;\n",
        "    cout << N;\n",
        "    \n",
        "    double pos_x[N];\n",
        "    double pos_y[N];\n",
        "\n",
        "    for(int i = 0; i <N; i++){\n",
        "        pos_x[i] = vx_init*i*dt;\n",
        "        pos_y[i] = y_init + vy_init*i*dt - 0.5*g*pow(i*dt, 2);     \n",
        "    }\n",
        "\n",
        "    for(int i = 0; i <N; i++){\n",
        "        cout << pos_x[i] << \" \";\n",
        "        cout << pos_y[i] << \" \";\n",
        "    }\n",
        "    \n",
        "    std::ofstream myfile;\n",
        "    myfile.open (\"x_values.csv\");\n",
        "    myfile << \"x,y\\n\";\n",
        "    for(int i = 0; i <N; i++){\n",
        "        myfile << pos_x[i] << \",\";\n",
        "        myfile << pos_y[i] << \"\\n\";\n",
        "    }\n",
        "    myfile.close();\n",
        "\n",
        "    // su codigo aqui\n",
        "    \n",
        "    vector<double> vxs(N);\n",
        "    vector<double> xs(N);\n",
        "    vector<double> vys(N);\n",
        "    vector<double> ys(N);\n",
        "    \n",
        "    vxs[0] = vx_init; // vx0\n",
        "    xs[0] = x_init; // x0\n",
        "    vys[0] = vy_init; // vy0\n",
        "    ys[0] = y_init; // y0\n",
        "    \n",
        "    double v1x;\n",
        "    double v1y;\n",
        "    double x1;\n",
        "    double y1;\n",
        "    \n",
        "    for(int t = 1; t < N; t++) {\n",
        "        \n",
        "        double k1x = dt * vx_init;\n",
        "        double l1x = dt * fx(vx_init);\n",
        "        double k1y = dt * vy_init;\n",
        "        double l1y = dt * fy(vx_init);\n",
        "    \n",
        "        double k2x = dt * (vx_init + (l1x/2));\n",
        "        double l2x = dt * fx(vx_init + (l1x/2));\n",
        "        double k2y = dt * (vy_init + (l1y/2));\n",
        "        double l2y = dt * fy(vy_init + (l1y/2));\n",
        "        \n",
        "        double k3x = dt * (vx_init + (l2x/2));\n",
        "        double l3x = dt * fx(vx_init + (l2x/2));\n",
        "        double k3y = dt * (vy_init + (l2y/2));\n",
        "        double l3y = dt * fy(vy_init + (l2y/2));        \n",
        "                \n",
        "        double k4x = dt * (vx_init + l3x);\n",
        "        double l4x = dt * fx(vx_init + l3x);\n",
        "        double k4y = dt * (vy_init + l3y);\n",
        "        double l4y = dt * fy(vy_init + l3y);\n",
        "        \n",
        "        v1x = vx_init + ((l1x + 2*l2x + 2*l3x + l4x)/6);\n",
        "        //vxs.push_back(v1x);\n",
        "        vxs[t] = v1x;\n",
        "        vx_init = v1x;\n",
        "        \n",
        "        x1 = x_init + ((k1x + 2*k2x + 2*k3x + k4x)/6);\n",
        "        //xs.push_back(x1);\n",
        "        xs[t] = x1;\n",
        "        x_init = x1;\n",
        "\n",
        "        \n",
        "        v1y = vy_init + ((l1y + 2*l2y + 2*l3y + l4y)/6);\n",
        "        //vys.push_back(v1y);\n",
        "        vys[t] = v1y;\n",
        "        vy_init = v1y;\n",
        "        \n",
        "        y1 = y_init + ((k1y + 2*k2y + 2*k3y + k4y)/6);\n",
        "        //ys.push_back(y1);\n",
        "        ys[t] = y1;\n",
        "        y_init = y1;\n",
        "    }\n",
        "    \n",
        "    std::ofstream myfile1;\n",
        "    myfile1.open (\"x_values_damped.csv\");\n",
        "    myfile1 << \"x,y\\n\";\n",
        "    for(int i = 0; i < N; i++){\n",
        "        myfile1 << xs[i] << \",\";\n",
        "        myfile1 << ys[i] << \"\\n\";\n",
        "    }\n",
        "    myfile1.close();\n",
        "\n",
        "\n",
        "    return 0;\n",
        "}"
      ]
    },
    {
      "cell_type": "code",
      "execution_count": null,
      "metadata": {
        "colab": {
          "base_uri": "https://localhost:8080/"
        },
        "id": "FYGuz7qSGSTs",
        "outputId": "14ea46e4-49a3-44fc-a7cc-0c3cfeadee60"
      },
      "outputs": [
        {
          "name": "stdout",
          "output_type": "stream",
          "text": [
            "total_time:2.733\n",
            "2730 10 0.1 10.0995 0.2 10.198 0.3 10.2955 0.4 10.392 0.5 10.4875 0.6 10.582 0.7 10.6755 0.8 10.768 0.9 10.8595 1 10.95 1.1 11.0395 1.2 11.128 1.3 11.2155 1.4 11.302 1.5 11.3875 1.6 11.472 1.7 11.5555 1.8 11.638 1.9 11.7195 2 11.8 2.1 11.8795 2.2 11.958 2.3 12.0355 2.4 12.112 2.5 12.1875 2.6 12.262 2.7 12.3355 2.8 12.408 2.9 12.4795 3 12.55 3.1 12.6195 3.2 12.688 3.3 12.7555 3.4 12.822 3.5 12.8875 3.6 12.952 3.7 13.0155 3.8 13.078 3.9 13.1395 4 13.2 4.1 13.2595 4.2 13.318 4.3 13.3755 4.4 13.432 4.5 13.4875 4.6 13.542 4.7 13.5955 4.8 13.648 4.9 13.6995 5 13.75 5.1 13.7995 5.2 13.848 5.3 13.8955 5.4 13.942 5.5 13.9875 5.6 14.032 5.7 14.0755 5.8 14.118 5.9 14.1595 6 14.2 6.1 14.2395 6.2 14.278 6.3 14.3155 6.4 14.352 6.5 14.3875 6.6 14.422 6.7 14.4555 6.8 14.488 6.9 14.5195 7 14.55 7.1 14.5795 7.2 14.608 7.3 14.6355 7.4 14.662 7.5 14.6875 7.6 14.712 7.7 14.7355 7.8 14.758 7.9 14.7795 8 14.8 8.1 14.8195 8.2 14.838 8.3 14.8555 8.4 14.872 8.5 14.8875 8.6 14.902 8.7 14.9155 8.8 14.928 8.9 14.9395 9 14.95 9.1 14.9595 9.2 14.968 9.3 14.9755 9.4 14.982 9.5 14.9875 9.6 14.992 9.7 14.9955 9.8 14.998 9.9 14.9995 10 15 10.1 14.9995 10.2 14.998 10.3 14.9955 10.4 14.992 10.5 14.9875 10.6 14.982 10.7 14.9755 10.8 14.968 10.9 14.9595 11 14.95 11.1 14.9395 11.2 14.928 11.3 14.9155 11.4 14.902 11.5 14.8875 11.6 14.872 11.7 14.8555 11.8 14.838 11.9 14.8195 12 14.8 12.1 14.7795 12.2 14.758 12.3 14.7355 12.4 14.712 12.5 14.6875 12.6 14.662 12.7 14.6355 12.8 14.608 12.9 14.5795 13 14.55 13.1 14.5195 13.2 14.488 13.3 14.4555 13.4 14.422 13.5 14.3875 13.6 14.352 13.7 14.3155 13.8 14.278 13.9 14.2395 14 14.2 14.1 14.1595 14.2 14.118 14.3 14.0755 14.4 14.032 14.5 13.9875 14.6 13.942 14.7 13.8955 14.8 13.848 14.9 13.7995 15 13.75 15.1 13.6995 15.2 13.648 15.3 13.5955 15.4 13.542 15.5 13.4875 15.6 13.432 15.7 13.3755 15.8 13.318 15.9 13.2595 16 13.2 16.1 13.1395 16.2 13.078 16.3 13.0155 16.4 12.952 16.5 12.8875 16.6 12.822 16.7 12.7555 16.8 12.688 16.9 12.6195 17 12.55 17.1 12.4795 17.2 12.408 17.3 12.3355 17.4 12.262 17.5 12.1875 17.6 12.112 17.7 12.0355 17.8 11.958 17.9 11.8795 18 11.8 18.1 11.7195 18.2 11.638 18.3 11.5555 18.4 11.472 18.5 11.3875 18.6 11.302 18.7 11.2155 18.8 11.128 18.9 11.0395 19 10.95 19.1 10.8595 19.2 10.768 19.3 10.6755 19.4 10.582 19.5 10.4875 19.6 10.392 19.7 10.2955 19.8 10.198 19.9 10.0995 20 10 20.1 9.8995 20.2 9.798 20.3 9.6955 20.4 9.592 20.5 9.4875 20.6 9.382 20.7 9.2755 20.8 9.168 20.9 9.0595 21 8.95 21.1 8.8395 21.2 8.728 21.3 8.6155 21.4 8.502 21.5 8.3875 21.6 8.272 21.7 8.1555 21.8 8.038 21.9 7.9195 22 7.8 22.1 7.6795 22.2 7.558 22.3 7.4355 22.4 7.312 22.5 7.1875 22.6 7.062 22.7 6.9355 22.8 6.808 22.9 6.6795 23 6.55 23.1 6.4195 23.2 6.288 23.3 6.1555 23.4 6.022 23.5 5.8875 23.6 5.752 23.7 5.6155 23.8 5.478 23.9 5.3395 24 5.2 24.1 5.0595 24.2 4.918 24.3 4.7755 24.4 4.632 24.5 4.4875 24.6 4.342 24.7 4.1955 24.8 4.048 24.9 3.8995 25 3.75 25.1 3.5995 25.2 3.448 25.3 3.2955 25.4 3.142 25.5 2.9875 25.6 2.832 25.7 2.6755 25.8 2.518 25.9 2.3595 26 2.2 26.1 2.0395 26.2 1.878 26.3 1.7155 26.4 1.55201 26.5 1.3875 26.6 1.222 26.7 1.0555 26.8 0.888004 26.9 0.7195 27 0.549999 27.1 0.379497 27.2 0.207996 "
          ]
        }
      ],
      "source": [
        "%%script bash\n",
        "\n",
        "g++ parabolico.cpp -o parabolico\n",
        "./parabolico"
      ]
    },
    {
      "cell_type": "code",
      "execution_count": null,
      "metadata": {
        "colab": {
          "base_uri": "https://localhost:8080/",
          "height": 455
        },
        "id": "BxKUcgiUG4q8",
        "outputId": "ae020fb5-a8f3-4070-ef3b-f2c8f2fe8d47"
      },
      "outputs": [
        {
          "data": {
            "image/png": "[encoded data removed]",
            "text/plain": [
              "<Figure size 640x480 with 1 Axes>"
            ]
          },
          "metadata": {},
          "output_type": "display_data"
        }
      ],
      "source": [
        "df = pd.read_csv(\"./x_values.csv\")\n",
        "df_damped = pd.read_csv(\"./x_values_damped.csv\")\n",
        "x = np.array(df[\"x\"])\n",
        "y = np.array(df[\"y\"])\n",
        "x_damped = np.array(df_damped[\"x\"])\n",
        "y_damped = np.array(df_damped[\"y\"])\n",
        "\n",
        "plt.ylim([0, 16])\n",
        "plt.xlim([0, 30])\n",
        "plt.xlabel(\"x(m)\")\n",
        "plt.ylabel(\"y(m)\")\n",
        "plt.plot(x, y)\n",
        "plt.plot(x_damped, y_damped)\n",
        "plt.show()"
      ]
    },
    {
      "cell_type": "code",
      "execution_count": null,
      "metadata": {
        "id": "ar_lY79vKWqH"
      },
      "outputs": [],
      "source": [
        "%%script bash\n",
        "\n",
        "rm parabolico x_values.csv x_values_damped.csv"
      ]
    },
    {
      "cell_type": "markdown",
      "metadata": {
        "id": "MELZuUDHuP71"
      },
      "source": [
        "## Problema 2\n",
        "\n",
        "Considere el sistema resorte pendulo que se muestra en la figura, el resorte está atado a una masa $m_1$ y el pendulo a una masa $m_2$, considere $l_0$ la longitud sin estirar del resorte, y $l$ la longitud del pendulo. El resorte con la masa $m_1$ se mueve en la dirección $x$ sin fricción.\n",
        "\n",
        "![](https://raw.githubusercontent.com/diegour1/MetodosComputacionales2/main/Datafiles/image2_p2.png)\n",
        "\n",
        "a) Demuestre que las ecuaciones de Newton y de ligadura del sistema resorte-pendulo son las siguientes, considerando la posición de la masa unida al resorte $x_1 = 0$ cuando el resorte está sin estirar, \n",
        "\n",
        "\\begin{align}\t\n",
        "m_1 \\ddot x_1 &= - k x_1 + T \\sin \\theta \\\\\n",
        "m_2 \\ddot x_2 &= - T \\sin \\theta \\\\\n",
        "m_2 \\ddot y_2 &=  T \\cos \\theta - m_2g \\\\\n",
        "\\ddot x_2 &= \\ddot x_1 - \\dot\\theta^2 l \\sin \\theta + \\ddot\\theta l \\cos \\theta \\\\\n",
        "\\ddot y_2 &= \\dot\\theta^2 l \\cos \\theta + \\ddot\\theta l \\sin \\theta\\\\\n",
        "\\end{align}\n",
        "\n",
        "Sus ecuaciones aquí,\n",
        "\n",
        "\n",
        "Para la masa $m_1$ tenemos:\n",
        "\n",
        "\\begin{align}\t\n",
        "\\sum F_x &= - k x_1 + T \\sin \\theta = m_1\\ddot{x_1} \\\\\n",
        "\\end{align}\n",
        "\n",
        "Para la masa $m_2$ tenemos:\n",
        "\n",
        "\\begin{align}\t\n",
        "\\sum F_x &= - T \\sin \\theta = m_2\\ddot{x_2} \\\\\n",
        "\\sum F_y &= T \\cos \\theta - m_2g = m_2\\ddot{y_2} \\\\\n",
        "\\end{align}\n",
        "\n",
        "Finalmente, para las ecuaciones de ligadura nos basamos en la geometría del péndulo.\n",
        "La primera ecuación de ligadura es:\n",
        "\n",
        "\\begin{align}\t\n",
        "x_2 = x_1 + l\\sin\\theta \\\\\n",
        "\\dot{x_2} = \\dot{x_1} + l \\dot\\theta \\cos\\theta \\\\\n",
        "\\ddot{x_2} = \\ddot{x_1} - l \\dot\\theta^2 \\sin\\theta + l\\ddot\\theta \\cos\\theta\\\\\n",
        "\\end{align}\n",
        "\n",
        "y la segunda:\n",
        " \n",
        "\\begin{align}\t\n",
        "y_2 = -l\\cos\\theta \\\\\n",
        "\\dot{y_2} = l\\dot\\theta \\sin\\theta \\\\\n",
        "\\ddot{y_2} = l\\dot\\theta^2\\cos\\theta + l\\ddot\\theta\\sin\\theta\n",
        "\\end{align}\n",
        "\n",
        "\n"
      ]
    },
    {
      "cell_type": "markdown",
      "metadata": {
        "id": "nTgb8OMTfB7x"
      },
      "source": [
        "b) Dado que el sistema se puede especificar en términos de solamente dos coordenadas $(x_1, \\theta)$ independientes, use la libreria **sympy** para resolver las ecuaciones y demonstrar que se obtiene las dos siguientes ecuaciones diferenciales ordinarias de segundo grado,\n",
        "\n",
        "\\begin{equation}\n",
        "\\ddot x_1 = \\frac{-k x_1 + m_2 \\dot \\theta^2 l \\sin \\theta}{ m_1+m_2}- \\frac{m_2 (k x_1 - m_2 \\dot \\theta^2 l \\sin \\theta -g(m_1 + m_2) \\tan \\theta )}{ (m_1+m_2) (m_1\\tan^2 \\theta + m_2) }\n",
        "\\end{equation}\n",
        "\n",
        "\\begin{equation}\n",
        "\\ddot \\theta = \\frac{k x_1 - m_2 \\dot \\theta^2 l \\sin \\theta - g(m_1+m_2) \\tan \\theta}{ l(m_1+m_2)\\sin \\theta \\tan \\theta + m_1 l \\cos \\theta }\n",
        "\\end{equation}\n",
        "\n",
        "Se deben imprimir las dos ecuaciones resultantes de forma simplificada en el notebook. "
      ]
    },
    {
      "cell_type": "code",
      "execution_count": null,
      "metadata": {
        "colab": {
          "base_uri": "https://localhost:8080/",
          "height": 79
        },
        "id": "x5gZt7486AR6",
        "outputId": "040e34dd-01b5-4307-a66e-41dc4948f1c5"
      },
      "outputs": [
        {
          "data": {
            "text/latex": [
              "$\\displaystyle \\left( \\frac{- g m_{1} \\sin{\\left(\\theta{\\left(t \\right)} \\right)} - g m_{2} \\sin{\\left(\\theta{\\left(t \\right)} \\right)} + k x_{1}{\\left(t \\right)} \\cos{\\left(\\theta{\\left(t \\right)} \\right)} - \\frac{l m_{2} \\sin{\\left(2 \\theta{\\left(t \\right)} \\right)} \\left(\\frac{d}{d t} \\theta{\\left(t \\right)}\\right)^{2}}{2}}{l \\left(m_{1} + m_{2} \\sin^{2}{\\left(\\theta{\\left(t \\right)} \\right)}\\right)}, \\  \\frac{\\frac{g m_{2} \\sin{\\left(2 \\theta{\\left(t \\right)} \\right)}}{2} - k x_{1}{\\left(t \\right)} + l m_{2} \\sin{\\left(\\theta{\\left(t \\right)} \\right)} \\left(\\frac{d}{d t} \\theta{\\left(t \\right)}\\right)^{2}}{m_{1} + m_{2} \\sin^{2}{\\left(\\theta{\\left(t \\right)} \\right)}}\\right)$"
            ],
            "text/plain": [
              "⎛                                                                             \n",
              "⎜                                                                        ⎛d   \n",
              "⎜                                                       l⋅m₂⋅sin(2⋅θ(t))⋅⎜──(θ\n",
              "⎜                                                                        ⎝dt  \n",
              "⎜-g⋅m₁⋅sin(θ(t)) - g⋅m₂⋅sin(θ(t)) + k⋅x₁(t)⋅cos(θ(t)) - ──────────────────────\n",
              "⎜                                                                    2        \n",
              "⎜─────────────────────────────────────────────────────────────────────────────\n",
              "⎜                                 ⎛           2      ⎞                        \n",
              "⎝                               l⋅⎝m₁ + m₂⋅sin (θ(t))⎠                        \n",
              "\n",
              "     2                                                         ⎞\n",
              "    ⎞                                                          ⎟\n",
              "(t))⎟                                                         2⎟\n",
              "    ⎠   g⋅m₂⋅sin(2⋅θ(t))                            ⎛d       ⎞ ⎟\n",
              "──────  ──────────────── - k⋅x₁(t) + l⋅m₂⋅sin(θ(t))⋅⎜──(θ(t))⎟ ⎟\n",
              "               2                                    ⎝dt      ⎠ ⎟\n",
              "──────, ───────────────────────────────────────────────────────⎟\n",
              "                                      2                        ⎟\n",
              "                           m₁ + m₂⋅sin (θ(t))                  ⎠"
            ]
          },
          "execution_count": 6,
          "metadata": {},
          "output_type": "execute_result"
        }
      ],
      "source": [
        "## su codigo aqui \n",
        "\n",
        "m1, m2, g, l, k, t = sym.symbols('m1 m2 g l k t')\n",
        "x1 = sym.Function('x1')(t)\n",
        "x2 = sym.Function('x2')(t)\n",
        "y2 = sym.Function('y2')(t)\n",
        "theta = sym.Function('theta')(t)\n",
        "T = sym.Function('T')(t)\n",
        "\n",
        "x1_dot = sym.diff(x1, t)\n",
        "x1_ddot = sym.diff(x1, t, t)\n",
        "x2_dot = sym.diff(x2, t)\n",
        "x2_ddot = sym.diff(x2, t, t)\n",
        "y2_dot = sym.diff(y2, t)\n",
        "y2_ddot = sym.diff(y2, t, t)\n",
        "theta_dot = sym.diff(theta, t)\n",
        "theta_ddot = sym.diff(theta, t, t)\n",
        "\n",
        "eq1 = m1 * x1_ddot + k * x1 - T * sym.sin(theta)\n",
        "eq2 = m2 * x2_ddot + T * sym.sin(theta)\n",
        "eq3 = m2 * y2_ddot - T * sym.cos(theta) + m2 * g\n",
        "eq4 = x2_ddot - x1_ddot + theta_dot**2 * l * sym.sin(theta) - theta_ddot * l * sym.cos(theta)\n",
        "eq5 = y2_ddot - theta_dot**2 * l * sym.cos(theta) - theta_ddot * l * sym.sin(theta)\n",
        "\n",
        "solution = sym.solve([eq1, eq2, eq3, eq4, eq5], (x1_ddot, x2_ddot, y2_ddot, theta_ddot, T))\n",
        "x1_ddot_solution = sym.simplify(solution[x1_ddot])\n",
        "theta_ddot_solution = sym.simplify(solution[theta_ddot])\n",
        "\n",
        "theta_ddot_solution, x1_ddot_solution\n"
      ]
    },
    {
      "cell_type": "markdown",
      "metadata": {
        "id": "TtDSGwXXOzhk"
      },
      "source": [
        "## Problema 3\n",
        "\n",
        "A partir de las ecuaciones de segundo grado del problema 1, resuelva las ecuaciones diferenciales anteriores, con el método de Runge-Kutta (de 4-to u 8-vo orden) y realice una simulación del movimiento, el resultado esperado debe verse como la siguiente simulación, \n",
        "\n",
        "https://www.youtube.com/watch?v=yTXhcYtohvk\n",
        "\n",
        "Para la simulación use los siguientes parametros:\n",
        "\n",
        "$l_0 = 1 \\text{ m}, \\quad l = 1 \\text{ m}, \\quad m_1 = 8 \\text{ kg}, \\quad m_2 = 10 \\text{ kg}, \\quad k = 300 \\text{ N/m}, \\quad \\theta_0= 70^\\circ, \\quad \\omega_0 = 0 \\quad T_\\text{total} = 5 \\text{ s}, \\quad x_{10} = 1 \\text{ m }$, $dt = 0.005 \\text{ s }, v_0 = 0$."
      ]
    },
    {
      "cell_type": "code",
      "execution_count": 14,
      "metadata": {
        "id": "TCxokLd6-pTY"
      },
      "outputs": [],
      "source": [
        "# parámetros del problema\n",
        "# idealmente no modificar mucho esta parte del codigo para facilitar la evaluacion\n",
        "\n",
        "g = 9.8 # m/s^2\n",
        "l = 1 # m longitud del pendulo\n",
        "m1 = 8 # kg\n",
        "m2 = 10 # kg\n",
        "k = 300 # N/m\n",
        "l0 = 1 # m longitud del resorte sin estirar\n",
        "\n",
        "tiempo = 5 # s\n",
        "puntos = int(tiempo*200) # numero de puntos a evaluar en la trayectoria\n",
        "\n",
        "# condiciones iniciales\n",
        "theta = 70 * np.pi/180 # angulo inicial respecto a la vertical (rad)\n",
        "x = 1  # posición inicial con respecto a la longitud del resorte sin estirar\n",
        "x2 = x + l * np.sin(theta) # posición inicial de la masa 2 con respecto a la longitud del resorte sin estirar\n",
        "y2 = - l * np.cos(theta) # posición inicial de la masa 2 con respecto a la longitud del resorte sin estirar\n",
        "v = 0.0 # velocidad angular inicial respecto a la vertical (rad/s)\n",
        "omega = 0"
      ]
    },
    {
      "cell_type": "code",
      "execution_count": 6,
      "metadata": {
        "id": "WQpQ_4yVoCe7"
      },
      "outputs": [],
      "source": [
        "## su codigo aqui\n",
        "\n",
        "\n",
        "def f_x1_ddot(theta, theta_dot, x1):\n",
        "    num = ( g*m2*np.sin(2*theta) / 2) - k*x1 + l*m2*(theta_dot**2)*np.sin(theta) \n",
        "    den = m1 + m2*(np.sin(theta)**2)\n",
        "    return num / den\n",
        "\n",
        "def f_theta_ddot(theta, theta_dot, x1):\n",
        "    num = - g*m1*np.sin(theta) - g*m2*np.sin(theta) + k*x1*np.cos(theta) - l*m2*(theta_dot**2)*np.sin(2*theta)/2     \n",
        "    den = l*(m1+m2*(np.sin(theta)**2))\n",
        "    return num/den\n",
        "\n",
        "def rk4_segundo_grado(fx, ftheta, N , h = 0.005):\n",
        "\n",
        "    v0 = v\n",
        "    x0 = x\n",
        "    vs = [v0]\n",
        "    xs = [x0]\n",
        "    \n",
        "    omega0 = omega\n",
        "    theta0 = theta\n",
        "    omegas = [omega0]\n",
        "    thetas = [theta0]\n",
        "  \n",
        "    #h_medios = h*0.5\n",
        "    #un_sexto = 1.0 / 6.0\n",
        "\n",
        "    for i in range(N):\n",
        "\n",
        "        l1_x = h * fx(theta0, omega0, x0)\n",
        "        k1_x = h * v0\n",
        "        l1_theta = h * ftheta(theta0, omega0, x0)\n",
        "        k1_theta = h * omega0\n",
        "        \n",
        "        \n",
        "        l2_x = h * fx(theta0 + 0.5*k1_theta, omega0 + 0.5*l1_theta, x0 + 0.5*k1_x)\n",
        "        k2_x = h * (v0 + 0.5*l1_x)\n",
        "        l2_theta = h * ftheta(theta0 + 0.5*k1_theta, omega0 + 0.5*l1_theta, x0 + 0.5*k1_x)\n",
        "        k2_theta = h * (omega0 + 0.5*l1_theta)\n",
        "\n",
        "        \n",
        "        l3_x = h * fx(theta0 + 0.5*k2_theta, omega0 + 0.5*l2_theta, x0 + 0.5*k2_x)\n",
        "        k3_x = h * (v0 + 0.5*l2_x)\n",
        "        l3_theta = h * ftheta(theta0 + 0.5*k2_theta, omega0 + 0.5*l2_theta, x0 + 0.5*k2_x)\n",
        "        k3_theta = h * (omega0 + 0.5*l2_theta)\n",
        "        \n",
        "        l4_x = h * fx(theta0 + k3_theta, omega0 + l3_theta, x0 + k3_x)\n",
        "        k4_x = h * (v0 + l3_x)\n",
        "        l4_theta = h * ftheta(theta0 + k3_theta, omega0 + l3_theta, x0 + k3_x)\n",
        "        k4_theta = h * (omega0 + l3_theta)\n",
        "        \n",
        "        v1 = v0 + (l1_x + 2*l2_x + 2*l3_x + l4_x)/6 \n",
        "        vs.append(v1)\n",
        "        v0 = v1\n",
        "        x1 = x0 + (k1_x + 2*k2_x + 2*k3_x + k4_x)/6\n",
        "        xs.append(x1)\n",
        "        x0 = x1\n",
        "        \n",
        "        omega1 = omega0 + (l1_theta + 2*l2_theta + 2*l3_theta + l4_theta)/6 \n",
        "        omegas.append(omega1)\n",
        "        omega0 = omega1\n",
        "        theta1 = theta0 + (k1_theta + 2*k2_theta + 2*k3_theta + k4_theta)/6\n",
        "        thetas.append(theta1)\n",
        "        theta0 = theta1\n",
        "        \n",
        "    return np.linspace(0,tiempo,len(vs)), np.array(xs), np.array(thetas)\n",
        "\n",
        "dt = 0.005\n",
        "t, x_rk4, theta_rk4 = rk4_segundo_grado(f_x1_ddot, f_theta_ddot, puntos, h=dt)\n",
        "\n",
        "x_rk4_mod = x_rk4.copy()\n",
        "for i in range(len(x_rk4_mod)):\n",
        "    x_rk4_mod[i] += 1\n",
        "    #print(x_rk4_mod[i])\n",
        "\n"
      ]
    },
    {
      "cell_type": "code",
      "execution_count": 7,
      "metadata": {
        "colab": {
          "base_uri": "https://localhost:8080/",
          "height": 452
        },
        "id": "fL5bnktcU3Wj",
        "outputId": "47febe35-cc63-46d8-bf0d-7e3c6218dd1c"
      },
      "outputs": [
        {
          "name": "stderr",
          "output_type": "stream",
          "text": [
            "WARNING:matplotlib.animation:MovieWriter imagemagick unavailable; using Pillow instead.\n"
          ]
        },
        {
          "data": {
            "image/png": "[encoded data removed]",
            "text/plain": [
              "<Figure size 640x480 with 1 Axes>"
            ]
          },
          "metadata": {},
          "output_type": "display_data"
        }
      ],
      "source": [
        "# su simulacion aqui\n",
        "\n",
        "fig, ax = plt.subplots()\n",
        "fig.figsize=(10, 2)\n",
        "ax.set_xlim([-2.5, 3.5])\n",
        "ax.set_ylim([-1, 1])\n",
        "\n",
        "# Crear una lista para almacenar las posiciones pasadas\n",
        "rastro_x = []\n",
        "rastro_y = []\n",
        "\n",
        "def update(j):\n",
        "\n",
        "    i = j*5\n",
        "    ax.clear()\n",
        "    ax.set_xlim([-2.5, 3.5])\n",
        "    ax.set_ylim([-1, 1])\n",
        "\n",
        "    x1 = x_rk4_mod[i]\n",
        "    y2 = -np.cos(theta_rk4[i])*l\n",
        "    x2 = x1 + np.sin(theta_rk4[i])*l\n",
        "\n",
        "    # Almacenar la posición actual en las listas de rastro\n",
        "    rastro_x.append(x2)\n",
        "    rastro_y.append(y2)\n",
        "\n",
        "    # Dibujar las posiciones pasadas\n",
        "    ax.plot(rastro_x, rastro_y, 'b-', linewidth=0.5)\n",
        "\n",
        "    # Dibujar el pendulo\n",
        "    ax.plot([0, x1], [0, 0], 'r-')\n",
        "    ax.scatter(x1, 0, color='red')\n",
        "    ax.plot([x1, x2], [0, y2], 'r-')\n",
        "    ax.scatter(x2, y2, color='red')\n",
        "\n",
        "anim = animation.FuncAnimation(fig, func = update, frames=200)\n",
        "\n",
        "anim.save('mi_animacion1.gif', writer='imagemagick', fps=20)\n",
        "\n",
        "\n",
        "start_time = time.time()\n",
        "#crear_animacion(data, 0, l,m1,m2,tiempo,fps,'sistema_resorte_pendulo.gif')\n",
        "#print(\"Tiempo usado en crear la animación (s):\",time.time() - start_time)"
      ]
    },
    {
      "cell_type": "code",
      "execution_count": null,
      "metadata": {
        "colab": {
          "base_uri": "https://localhost:8080/"
        },
        "id": "ZhOJS44qiStr",
        "outputId": "75dd2993-7e37-46c8-cadf-fdf6fd1f7aca"
      },
      "outputs": [
        {
          "name": "stdout",
          "output_type": "stream",
          "text": [
            "Tiempo usado en crear la animación (s): 12.752812623977661\n"
          ]
        }
      ],
      "source": [
        "# use el siguiente codigo para evaluar el tiempo de su simulacion\n",
        "\n",
        "print(\"Tiempo usado en crear la animación (s):\",time.time() - start_time)"
      ]
    }
  ],
  "metadata": {
    "colab": {
      "provenance": []
    },
    "kernelspec": {
      "display_name": "Python 3",
      "name": "python3"
    },
    "language_info": {
      "codemirror_mode": {
        "name": "ipython",
        "version": 3
      },
      "file_extension": ".py",
      "mimetype": "text/x-python",
      "name": "python",
      "nbconvert_exporter": "python",
      "pygments_lexer": "ipython3",
      "version": "3.10.6"
    }
  },
  "nbformat": 4,
  "nbformat_minor": 0
}
