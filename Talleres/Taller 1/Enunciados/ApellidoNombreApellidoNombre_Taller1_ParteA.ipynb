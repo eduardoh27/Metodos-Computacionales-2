{
  "cells": [
    {
      "cell_type": "markdown",
      "metadata": {
        "id": "0Z8Dn_z6Mb9b"
      },
      "source": [
        "# Taller 1 Parte A\n",
        "\n",
        "## Métodos Computacionales 2 2023-10\n",
        "\n",
        "Instrucciones: Suba el jupyter notebook **.ipynb** en la actividad de bloque neon. El archivo debe ser nombrado ApellidoNombreApellidoNombre_Taller1_ParteA.ipynb, con su primer Apellido y Nombre de cada integrante de la pareja. **El archivo debe poder correr en el binder del curso** \n",
        "\n",
        "Si un ejercicio demora **más de 10 segundos** en correr se considerará **incorrecto**.\n",
        "\n",
        "No modifique el cuaderno, ni los modos de lectura de los archivos.\n",
        "\n",
        "**Entrega: Miercoles 19 de Abril 11:59 pm**"
      ]
    },
    {
      "cell_type": "markdown",
      "metadata": {
        "id": "TtDSGwXXOzhk"
      },
      "source": [
        "## Problema 1\n",
        "\n",
        "En el github del curso en la carpeta `Datafiles` se encuentra el archivo `linear.csv` el código a continuación lee el archivo y guarda los valores de $x$ y $y$ en los arrays `x[]` y `y[]`.\n",
        "\n",
        "Para poder leer el archivo el notebook debe estar en la misma carpeta `Datafiles`.\n",
        "\n",
        "Basados en el método de los mínimos cuadrados, se puede ajustar una recta $ y = mx + b$. Donde la pendiente y el punto de corte están dados por, \n",
        "\n",
        "\\begin{equation*}\n",
        "     m = \\frac{E_{xy} - E_x E_y}{E_{xx} - E_x^2}, \\qquad b = \\frac{E_{xx}E_y - E_x E_{xy}}{E_{xx} - E_x^2}\n",
        "\\end{equation*}\n",
        "\n",
        "Donde se definen, \n",
        "\n",
        "$$ E_x = \\frac{1}{n}\\sum_{i=1}^n x_i, \\quad E_y = \\frac{1}{n}\\sum_{i=1}^n y_i, \\quad E_{xx} = \\frac{1}{n}\\sum_{i=1}^n x_i^2, \\quad E_{xy} = \\frac{1}{n}\\sum_{i=1}^n x_iy_i $$\n",
        "\n",
        "Modifique el archivo a continuación de forma que evalúe la pendiente y el punto de corte de los datos, guarde la pendiente en la variable `slope `y el punto de corte en la variable `intercept`. Al final incluya el siguiente `cout` para la evaluación de su ejercicio. \n",
        "\n",
        "`cout << \"Slope = \" << slope << \", Intercept = \" << intercept << endl;`\n",
        "\n",
        "Los valores de la pendiente y el intercepto son números entre 0.5 y 10."
      ]
    },
    {
      "cell_type": "code",
      "source": [
        "%%writefile regresion.cpp\n",
        "\n",
        "#include <stdio.h>\n",
        "#include <stdlib.h>\n",
        "#include <iostream>\n",
        "#include <fstream>\n",
        "#include <sstream>  \n",
        "#include <math.h>\n",
        "using namespace std;\n",
        "\n",
        "int main() \n",
        "{\n",
        "    ifstream  data(\"linear.csv\");\n",
        "    string line;\n",
        "    float x[92];\n",
        "    float y[92];\n",
        "    int i = 0;\n",
        "    while(getline(data,line))\n",
        "    {\n",
        "        stringstream lineStream(line);\n",
        "        string cell;\n",
        "        if (i != 0)\n",
        "        {\n",
        "            \n",
        "            while(getline(lineStream,cell,'\\n'))\n",
        "            {\n",
        "                stringstream lineStreamCell(cell);\n",
        "                string cell_data;\n",
        "                int j = 0;\n",
        "                while(getline(lineStreamCell,cell_data,','))\n",
        "                {\n",
        "                    if (j%2 == 0)\n",
        "                    {\n",
        "                        x[i-1] = stof(cell_data);\n",
        "                    }\n",
        "                    else\n",
        "                    {\n",
        "                        y[i-1] = stof(cell_data);\n",
        "                    }\n",
        "                    j++;\n",
        "                }   \n",
        "            }\n",
        "        }\n",
        "        i++;\n",
        "    }\n",
        "    cout << \"x \\n\";\n",
        "    for (int i = 0; i < 92; i++)\n",
        "    {\n",
        "        cout << x[i] << \" \";\n",
        "    }\n",
        "    cout << \"\\n y \\n\";\n",
        "    for (int i = 0; i < 92; i++)\n",
        "    {\n",
        "        cout << y[i] << \" \";\n",
        "    }\n",
        "    cout << endl;\n",
        "    \n",
        "    // su codigo aqui\n",
        "    \n",
        "\n",
        "    return 0;\n",
        "}"
      ],
      "metadata": {
        "colab": {
          "base_uri": "https://localhost:8080/"
        },
        "id": "cT1p4cpH8fJo",
        "outputId": "d4d341d4-9131-4c41-bfdc-4d92280d41cb"
      },
      "execution_count": null,
      "outputs": [
        {
          "output_type": "stream",
          "name": "stdout",
          "text": [
            "Writing regresion.cpp\n"
          ]
        }
      ]
    },
    {
      "cell_type": "code",
      "source": [
        "%%script bash\n",
        "\n",
        "g++ regresion.cpp -o regresion\n",
        "./regresion"
      ],
      "metadata": {
        "colab": {
          "base_uri": "https://localhost:8080/"
        },
        "id": "zfxv80gGOLZR",
        "outputId": "ea98b92c-c935-4ade-c8f5-e1ecd510e331"
      },
      "execution_count": null,
      "outputs": [
        {
          "output_type": "stream",
          "name": "stdout",
          "text": [
            "x \n",
            "1.28668e+12 4.59163e-41 -1.79881e-09 4.5716e-41 1.32816e-36 0 -3.17033e-09 4.5716e-41 -3.13216e-09 4.5716e-41 -5.3243e-09 4.5716e-41 -6.30702e-09 4.5716e-41 0 0 1.28673e+12 4.59163e-41 -5.33611e-09 4.5716e-41 4.32982e-38 0 -6.30759e-09 4.5716e-41 4.2039e-45 0 -5.3243e-09 4.5716e-41 -6.30815e-09 4.5716e-41 0 4.5716e-41 1.28674e+12 4.59163e-41 -1.79881e-09 4.5716e-41 1.04974e-38 0 -3.16276e-09 4.5716e-41 -3.13228e-09 4.5716e-41 -1.79155e-09 4.5716e-41 2.8026e-45 4.5716e-41 0 4.5716e-41 1.28675e+12 4.59163e-41 4.2039e-45 0 1.28675e+12 4.59163e-41 0 4.59163e-41 -6.22295e-09 4.5716e-41 0 0 1.54143e-44 0 -6.30815e-09 4.5716e-41 2.8026e-45 0 9.76651e-22 0 -6.3074e-09 4.5716e-41 1.28677e+12 4.59163e-41 -6.22371e-09 4.5716e-41 -6.30702e-09 4.5716e-41 0 0 -5.32459e-09 4.5716e-41 5.60519e-45 0 -6.22371e-09 4.5716e-41 1.4013e-45 0 0 0 1.4013e-45 0 -5.3243e-09 4.5716e-41 \n",
            " y \n",
            "-6.30702e-09 4.5716e-41 0 1.4013e-45 1.28675e+12 4.59163e-41 -3.16135e-09 4.5716e-41 1.78263e-38 0 -3.19857e-09 4.5716e-41 -3.15952e-09 4.5716e-41 -3.12684e-09 4.5716e-41 2.8026e-45 4.5716e-41 0 4.5716e-41 1.28678e+12 4.59163e-41 4.2039e-45 4.5716e-41 1.28678e+12 4.59163e-41 0 4.5716e-41 -6.22295e-09 4.5716e-41 0 0 1.54143e-44 0 -6.30702e-09 4.5716e-41 1.28679e+12 4.59163e-41 9.82904e-10 0 -6.3074e-09 4.5716e-41 1.2868e+12 4.59163e-41 -6.22329e-09 4.5716e-41 -6.30702e-09 4.5716e-41 0 0 -5.32459e-09 4.5716e-41 2.8026e-45 0 -6.22329e-09 4.5716e-41 1.4013e-45 0 0 0 1.4013e-45 0 -6.30702e-09 4.5716e-41 -3.19857e-09 4.5716e-41 -5.32459e-09 1.4013e-45 1.28678e+12 4.59163e-41 1.28678e+12 4.59163e-41 -6.3074e-09 4.5716e-41 0 0 1.4013e-45 0 -6.30702e-09 4.5716e-41 -nan 0 -3.41369e-09 1.4013e-45 -3.15952e-09 4.5716e-41 -6.30702e-09 4.5716e-41 -6.3074e-09 4.5716e-41 0 0 \n"
          ]
        }
      ]
    },
    {
      "cell_type": "markdown",
      "source": [
        "## Problema 2\n",
        "\n",
        "Cree una función en `C++`, que tenga la siguiente firma: \n",
        "\n",
        "`void sort(int* ptrA, int* ptrB, int* ptrC)`\n",
        "\n",
        "la cual dados tres punteros de enteros reasigne los valores de `a`, `b`, y `c`, de menor a mayor, es decir, `a` sería el menor, `b` sería el del medio, y `c` sería el mayor. Pueden haber también enteros iguales.\n",
        "\n",
        "No modifique la parte de la función `main()` que realiza los casos de prueba como se encuentra en el archivo."
      ],
      "metadata": {
        "id": "xWbz0ud79j38"
      }
    },
    {
      "cell_type": "code",
      "source": [
        "%%writefile sort.cpp\n",
        "\n",
        "#include <iostream>\n",
        "#include <string>\n",
        "using namespace std;\n",
        "\n",
        "void sort(int* ptrA, int* ptrB, int* ptrC)\n",
        "{\n",
        "    // su codigo aqui\n",
        "    \n",
        "\n",
        "}\n",
        "\n",
        "int main() {\n",
        "    \n",
        "    int a = 5, b = 3, c = 4;\n",
        "    cout << \"Initial Numbers\" << endl;\n",
        "    cout << a << \" \" << b << \" \" << c << endl;\n",
        "    cout << \"Sorting: \" << endl;\n",
        "    sort(&a, &b, &c);\n",
        "    cout << a << \" \" << b << \" \" << c << endl;\n",
        "    \n",
        "    int d = 500, e = 300, f = 150;\n",
        "    cout << \"Initial Numbers\" << endl;\n",
        "    cout << d << \" \" << e << \" \" << f << endl;\n",
        "    cout << \"Sorting: \" << endl;\n",
        "    sort(&d, &e, &f);\n",
        "    cout << d << \" \" << e << \" \" << f << endl;\n",
        "    \n",
        "    int g = 156, h = 121, i = 121;\n",
        "    cout << \"Initial Numbers\" << endl;\n",
        "    cout << g << \" \" << h << \" \" << i << endl;\n",
        "    cout << \"Sorting: \" << endl;\n",
        "    sort(&g, &h, &i);\n",
        "    cout << g << \" \" << h << \" \" << i << endl;\n",
        "    \n",
        "    int j = 102, k = 105, l = 221;\n",
        "    cout << \"Initial Numbers\" << endl;\n",
        "    cout << j << \" \" << k << \" \" << l << endl;\n",
        "    cout << \"Sorting: \" << endl;\n",
        "    sort(&j, &k, &l);\n",
        "    cout << j << \" \" << k << \" \" << l << endl;\n",
        "    \n",
        "    return 0;\n",
        "}\n"
      ],
      "metadata": {
        "colab": {
          "base_uri": "https://localhost:8080/"
        },
        "id": "5jChkoGd-UQW",
        "outputId": "10703a03-fc53-46aa-d283-054f7302a3a7"
      },
      "execution_count": null,
      "outputs": [
        {
          "output_type": "stream",
          "name": "stdout",
          "text": [
            "Writing sort.cpp\n"
          ]
        }
      ]
    },
    {
      "cell_type": "code",
      "source": [
        "%%script bash\n",
        "\n",
        "g++ sort.cpp -o sort\n",
        "./sort"
      ],
      "metadata": {
        "id": "KaOtxtslP-Ti"
      },
      "execution_count": null,
      "outputs": []
    }
  ],
  "metadata": {
    "colab": {
      "provenance": []
    },
    "kernelspec": {
      "display_name": "Python 3",
      "name": "python3"
    }
  },
  "nbformat": 4,
  "nbformat_minor": 0
}