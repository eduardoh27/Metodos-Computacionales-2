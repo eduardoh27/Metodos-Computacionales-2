{
  "cells": [
    {
      "cell_type": "markdown",
      "metadata": {
        "id": "0Z8Dn_z6Mb9b"
      },
      "source": [
        "# Taller 1 Parte A\n",
        "\n",
        "## Métodos Computacionales 2 2023-10\n",
        "\n",
        "Instrucciones: Suba el jupyter notebook **.ipynb** en la actividad de bloque neon. El archivo debe ser nombrado ApellidoNombreApellidoNombre_Taller1_ParteA.ipynb, con su primer Apellido y Nombre de cada integrante de la pareja. **El archivo debe poder correr en el binder del curso** \n",
        "\n",
        "Si un ejercicio demora **más de 10 segundos** en correr se considerará **incorrecto**.\n",
        "\n",
        "No modifique el cuaderno, ni los modos de lectura de los archivos.\n",
        "\n",
        "**Entrega: Miercoles 19 de Abril 11:59 pm**"
      ]
    },
    {
      "cell_type": "markdown",
      "metadata": {
        "id": "TtDSGwXXOzhk"
      },
      "source": [
        "## Problema 1\n",
        "\n",
        "En el github del curso en la carpeta `Datafiles` se encuentra el archivo `linear.csv` el código a continuación lee el archivo y guarda los valores de $x$ y $y$ en los arrays `x[]` y `y[]`.\n",
        "\n",
        "Para poder leer el archivo el notebook debe estar en la misma carpeta `Datafiles`.\n",
        "\n",
        "Basados en el método de los mínimos cuadrados, se puede ajustar una recta $ y = mx + b$. Donde la pendiente y el punto de corte están dados por, \n",
        "\n",
        "\\begin{equation*}\n",
        "     m = \\frac{E_{xy} - E_x E_y}{E_{xx} - E_x^2}, \\qquad b = \\frac{E_{xx}E_y - E_x E_{xy}}{E_{xx} - E_x^2}\n",
        "\\end{equation*}\n",
        "\n",
        "Donde se definen, \n",
        "\n",
        "$$ E_x = \\frac{1}{n}\\sum_{i=1}^n x_i, \\quad E_y = \\frac{1}{n}\\sum_{i=1}^n y_i, \\quad E_{xx} = \\frac{1}{n}\\sum_{i=1}^n x_i^2, \\quad E_{xy} = \\frac{1}{n}\\sum_{i=1}^n x_iy_i $$\n",
        "\n",
        "Modifique el archivo a continuación de forma que evalúe la pendiente y el punto de corte de los datos, guarde la pendiente en la variable `slope `y el punto de corte en la variable `intercept`. Al final incluya el siguiente `cout` para la evaluación de su ejercicio. \n",
        "\n",
        "`cout << \"Slope = \" << slope << \", Intercept = \" << intercept << endl;`\n",
        "\n",
        "Los valores de la pendiente y el intercepto son números entre 0.5 y 10."
      ]
    },
    {
      "cell_type": "code",
      "execution_count": 9,
      "metadata": {
        "colab": {
          "base_uri": "https://localhost:8080/"
        },
        "id": "cT1p4cpH8fJo",
        "outputId": "d4d341d4-9131-4c41-bfdc-4d92280d41cb",
        "vscode": {
          "languageId": "powershell"
        }
      },
      "outputs": [
        {
          "name": "stdout",
          "output_type": "stream",
          "text": [
            "Overwriting regresion.cpp\n"
          ]
        }
      ],
      "source": [
        "%%writefile regresion.cpp\n",
        "\n",
        "#include <stdio.h>\n",
        "#include <stdlib.h>\n",
        "#include <iostream>\n",
        "#include <fstream>\n",
        "#include <sstream>  \n",
        "#include <math.h>\n",
        "using namespace std;\n",
        "\n",
        "float e_x ( int n,  float x[])\n",
        "{    \n",
        "    float respuesta;\n",
        "    float sum = 0;\n",
        "    \n",
        "    for(int i = 0;  i < n ;  i++) {\n",
        "        sum += x[i];\n",
        "    }\n",
        "\n",
        "    respuesta = sum/n;\n",
        "    return respuesta;\n",
        "}\n",
        "\n",
        "float e_y ( int n,  float y[])\n",
        "{    \n",
        "    float respuesta;   \n",
        "    float sum = 0;\n",
        "    \n",
        "    for(int i = 0;  i < n ;  i++) {\n",
        "        sum += y[i];\n",
        "    }\n",
        "    \n",
        "    respuesta = sum/n;   \n",
        "    return respuesta;\n",
        "}\n",
        "\n",
        "float e_xx ( int n,  float x[])\n",
        "{    \n",
        "    float respuesta;\n",
        "    float sum = 0;\n",
        "    \n",
        "    for(int i = 0;  i < n ;  i++) {\n",
        "        sum += x[i]*x[i];\n",
        "    }\n",
        "    \n",
        "    respuesta = sum/n;\n",
        "    return respuesta;\n",
        "}\n",
        "\n",
        "float e_xy ( int n,  float x[],  float y[])\n",
        "{    \n",
        "    float respuesta;\n",
        "    float sum = 0;\n",
        "    \n",
        "    for(int i = 0;  i < n ;  i++) {\n",
        "        sum += x[i]*y[i];\n",
        "    }\n",
        "    \n",
        "    // casting puede ser necesario\n",
        "    // respuesta = sum / static_cast<float>(n);\n",
        "    respuesta = sum/n;\n",
        "    return respuesta;\n",
        "}\n",
        "\n",
        "\n",
        "\n",
        "int main() \n",
        "{\n",
        "    ifstream  data(\"linear.csv\");\n",
        "    string line;\n",
        "    float x[92];\n",
        "    float y[92];\n",
        "    int i = 0;\n",
        "    while(getline(data,line))\n",
        "    {\n",
        "        stringstream lineStream(line);\n",
        "        string cell;\n",
        "        if (i != 0)\n",
        "        {\n",
        "            \n",
        "            while(getline(lineStream,cell,'\\n'))\n",
        "            {\n",
        "                stringstream lineStreamCell(cell);\n",
        "                string cell_data;\n",
        "                int j = 0;\n",
        "                while(getline(lineStreamCell,cell_data,','))\n",
        "                {\n",
        "                    if (j%2 == 0)\n",
        "                    {\n",
        "                        x[i-1] = stof(cell_data);\n",
        "                    }\n",
        "                    else\n",
        "                    {\n",
        "                        y[i-1] = stof(cell_data);\n",
        "                    }\n",
        "                    j++;\n",
        "                }   \n",
        "            }\n",
        "        }\n",
        "        i++;\n",
        "    }\n",
        "    cout << \"x \\n\";\n",
        "    for (int i = 0; i < 92; i++)\n",
        "    {\n",
        "        cout << x[i] << \" \";\n",
        "    }\n",
        "    cout << \"\\n y \\n\";\n",
        "    for (int i = 0; i < 92; i++)\n",
        "    {\n",
        "        cout << y[i] << \" \";\n",
        "    }\n",
        "    cout << endl;\n",
        "    \n",
        "    // su codigo aqui\n",
        "    int n = 92;\n",
        "    // value vs reference? no hay diferencia en este caso\n",
        "    float slope = ( e_xy(n, x, y) - e_x(n, x)*e_y(n, y) ) / ( e_xx(n, x) - e_x(n, x)*e_x(n, x) );\n",
        "    float intercept = ( e_xx(n, x)*e_y(n, y) - e_x(n, x)*e_xy(n, x, y) ) / ( e_xx(n, x) - e_x(n, x)*e_x(n, x) );\n",
        "    cout << \"Slope = \" << slope << \", Intercept = \" << intercept << endl;\n",
        "    \n",
        "    return 0;\n",
        "}\n"
      ]
    },
    {
      "cell_type": "code",
      "execution_count": 10,
      "metadata": {
        "colab": {
          "base_uri": "https://localhost:8080/"
        },
        "id": "zfxv80gGOLZR",
        "outputId": "ea98b92c-c935-4ade-c8f5-e1ecd510e331",
        "vscode": {
          "languageId": "powershell"
        }
      },
      "outputs": [
        {
          "name": "stderr",
          "output_type": "stream",
          "text": [
            "<3>WSL (8) ERROR: CreateProcessEntryCommon:370: getpwuid(0) failed 2\n",
            "<3>WSL (8) ERROR: CreateProcessEntryCommon:374: getpwuid(0) failed 2\n",
            "<3>WSL (8) ERROR: CreateProcessEntryCommon:577: execvpe /bin/bash failed 2\n",
            "<3>WSL (8) ERROR: CreateProcessEntryCommon:586: Create process not expected to return\n"
          ]
        },
        {
          "ename": "CalledProcessError",
          "evalue": "Command 'b'\\ng++ regresion.cpp -o regresion\\n./regresion\\n'' returned non-zero exit status 1.",
          "output_type": "error",
          "traceback": [
            "\u001b[1;31m---------------------------------------------------------------------------\u001b[0m",
            "\u001b[1;31mCalledProcessError\u001b[0m                        Traceback (most recent call last)",
            "\u001b[1;32mc:\\Users\\eduar\\OneDrive - Universidad de los Andes\\OTROS\\Sofi-Edu\\2023-10\\Metodos Computacionales 2\\MetodosComputacionales2\\Talleres\\Taller 1\\Desarrollo\\NaranjoSofiaHerreraEduardo_Taller1_ParteA.ipynb Cell 4\u001b[0m in \u001b[0;36m1\n\u001b[1;32m----> <a href='vscode-notebook-cell:/c%3A/Users/eduar/OneDrive%20-%20Universidad%20de%20los%20Andes/OTROS/Sofi-Edu/2023-10/Metodos%20Computacionales%202/MetodosComputacionales2/Talleres/Taller%201/Desarrollo/NaranjoSofiaHerreraEduardo_Taller1_ParteA.ipynb#X16sZmlsZQ%3D%3D?line=0'>1</a>\u001b[0m get_ipython()\u001b[39m.\u001b[39;49mrun_cell_magic(\u001b[39m'\u001b[39;49m\u001b[39mscript\u001b[39;49m\u001b[39m'\u001b[39;49m, \u001b[39m'\u001b[39;49m\u001b[39mbash\u001b[39;49m\u001b[39m'\u001b[39;49m, \u001b[39m'\u001b[39;49m\u001b[39m\\n\u001b[39;49;00m\u001b[39mg++ regresion.cpp -o regresion\u001b[39;49m\u001b[39m\\n\u001b[39;49;00m\u001b[39m./regresion\u001b[39;49m\u001b[39m\\n\u001b[39;49;00m\u001b[39m'\u001b[39;49m)\n",
            "File \u001b[1;32m~\\AppData\\Roaming\\Python\\Python310\\site-packages\\IPython\\core\\interactiveshell.py:2362\u001b[0m, in \u001b[0;36mInteractiveShell.run_cell_magic\u001b[1;34m(self, magic_name, line, cell)\u001b[0m\n\u001b[0;32m   2360\u001b[0m \u001b[39mwith\u001b[39;00m \u001b[39mself\u001b[39m\u001b[39m.\u001b[39mbuiltin_trap:\n\u001b[0;32m   2361\u001b[0m     args \u001b[39m=\u001b[39m (magic_arg_s, cell)\n\u001b[1;32m-> 2362\u001b[0m     result \u001b[39m=\u001b[39m fn(\u001b[39m*\u001b[39margs, \u001b[39m*\u001b[39m\u001b[39m*\u001b[39mkwargs)\n\u001b[0;32m   2363\u001b[0m \u001b[39mreturn\u001b[39;00m result\n",
            "File \u001b[1;32m~\\AppData\\Roaming\\Python\\Python310\\site-packages\\IPython\\core\\magics\\script.py:305\u001b[0m, in \u001b[0;36mScriptMagics.shebang\u001b[1;34m(self, line, cell)\u001b[0m\n\u001b[0;32m    300\u001b[0m \u001b[39mif\u001b[39;00m args\u001b[39m.\u001b[39mraise_error \u001b[39mand\u001b[39;00m p\u001b[39m.\u001b[39mreturncode \u001b[39m!=\u001b[39m \u001b[39m0\u001b[39m:\n\u001b[0;32m    301\u001b[0m     \u001b[39m# If we get here and p.returncode is still None, we must have\u001b[39;00m\n\u001b[0;32m    302\u001b[0m     \u001b[39m# killed it but not yet seen its return code. We don't wait for it,\u001b[39;00m\n\u001b[0;32m    303\u001b[0m     \u001b[39m# in case it's stuck in uninterruptible sleep. -9 = SIGKILL\u001b[39;00m\n\u001b[0;32m    304\u001b[0m     rc \u001b[39m=\u001b[39m p\u001b[39m.\u001b[39mreturncode \u001b[39mor\u001b[39;00m \u001b[39m-\u001b[39m\u001b[39m9\u001b[39m\n\u001b[1;32m--> 305\u001b[0m     \u001b[39mraise\u001b[39;00m CalledProcessError(rc, cell)\n",
            "\u001b[1;31mCalledProcessError\u001b[0m: Command 'b'\\ng++ regresion.cpp -o regresion\\n./regresion\\n'' returned non-zero exit status 1."
          ]
        }
      ],
      "source": [
        "%%script bash\n",
        "\n",
        "g++ regresion.cpp -o regresion\n",
        "./regresion"
      ]
    },
    {
      "cell_type": "markdown",
      "metadata": {
        "id": "xWbz0ud79j38"
      },
      "source": [
        "## Problema 2\n",
        "\n",
        "Cree una función en `C++`, que tenga la siguiente firma: \n",
        "\n",
        "`void sort(int* ptrA, int* ptrB, int* ptrC)`\n",
        "\n",
        "la cual dados tres punteros de enteros reasigne los valores de `a`, `b`, y `c`, de menor a mayor, es decir, `a` sería el menor, `b` sería el del medio, y `c` sería el mayor. Pueden haber también enteros iguales.\n",
        "\n",
        "No modifique la parte de la función `main()` que realiza los casos de prueba como se encuentra en el archivo."
      ]
    },
    {
      "cell_type": "code",
      "execution_count": null,
      "metadata": {
        "colab": {
          "base_uri": "https://localhost:8080/"
        },
        "id": "5jChkoGd-UQW",
        "outputId": "10703a03-fc53-46aa-d283-054f7302a3a7",
        "vscode": {
          "languageId": "python"
        }
      },
      "outputs": [
        {
          "name": "stdout",
          "output_type": "stream",
          "text": [
            "Writing sort.cpp\n"
          ]
        }
      ],
      "source": [
        "%%writefile sort.cpp\n",
        "\n",
        "#include <iostream>\n",
        "#include <string>\n",
        "using namespace std;\n",
        "\n",
        "    \n",
        "void sort(int* ptrA, int* ptrB, int* ptrC)\n",
        "{\n",
        "    int tempA = *ptrA;\n",
        "    int tempB = *ptrB;\n",
        "    int tempC = *ptrC;\n",
        "    \n",
        "    int array[3] = {tempA, tempB, tempC};\n",
        "    int maximo = array[0];\n",
        "    for(int i = 1; i < 3; i++){\n",
        "        if (array[i] > maximo) {\n",
        "            maximo = array[i];\n",
        "        }\n",
        "    }\n",
        "    \n",
        "    int minimo = array[0];\n",
        "    for(int i = 1; i < 3; i++){\n",
        "        if (array[i] < minimo) {\n",
        "            minimo = array[i];\n",
        "        }\n",
        "    }\n",
        "    \n",
        "    int medio = tempA + tempB + tempC - maximo - minimo;\n",
        "    \n",
        "    *ptrA = minimo;\n",
        "    *ptrB = medio;\n",
        "    *ptrC = maximo;\n",
        "}\n",
        "\n",
        "int main() {\n",
        "    \n",
        "    int a = 5, b = 3, c = 4;\n",
        "    cout << \"Initial Numbers\" << endl;\n",
        "    cout << a << \" \" << b << \" \" << c << endl;\n",
        "    cout << \"Sorting: \" << endl;\n",
        "    sort(&a, &b, &c);\n",
        "    cout << a << \" \" << b << \" \" << c << endl;\n",
        "    \n",
        "    int d = 500, e = 300, f = 150;\n",
        "    cout << \"Initial Numbers\" << endl;\n",
        "    cout << d << \" \" << e << \" \" << f << endl;\n",
        "    cout << \"Sorting: \" << endl;\n",
        "    sort(&d, &e, &f);\n",
        "    cout << d << \" \" << e << \" \" << f << endl;\n",
        "    \n",
        "    int g = 156, h = 121, i = 121;\n",
        "    cout << \"Initial Numbers\" << endl;\n",
        "    cout << g << \" \" << h << \" \" << i << endl;\n",
        "    cout << \"Sorting: \" << endl;\n",
        "    sort(&g, &h, &i);\n",
        "    cout << g << \" \" << h << \" \" << i << endl;\n",
        "    \n",
        "    int j = 102, k = 105, l = 221;\n",
        "    cout << \"Initial Numbers\" << endl;\n",
        "    cout << j << \" \" << k << \" \" << l << endl;\n",
        "    cout << \"Sorting: \" << endl;\n",
        "    sort(&j, &k, &l);\n",
        "    cout << j << \" \" << k << \" \" << l << endl;\n",
        "    \n",
        "    return 0;\n",
        "}\n"
      ]
    },
    {
      "cell_type": "code",
      "execution_count": null,
      "metadata": {
        "id": "KaOtxtslP-Ti",
        "vscode": {
          "languageId": "python"
        }
      },
      "outputs": [],
      "source": [
        "%%script bash\n",
        "\n",
        "g++ sort.cpp -o sort\n",
        "./sort"
      ]
    }
  ],
  "metadata": {
    "colab": {
      "provenance": []
    },
    "kernelspec": {
      "display_name": "Python 3",
      "name": "python3"
    }
  },
  "nbformat": 4,
  "nbformat_minor": 0
}
