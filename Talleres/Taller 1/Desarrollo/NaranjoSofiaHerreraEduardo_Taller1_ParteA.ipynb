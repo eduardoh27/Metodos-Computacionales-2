{
 "cells": [
  {
   "cell_type": "markdown",
   "metadata": {
    "id": "0Z8Dn_z6Mb9b"
   },
   "source": [
    "# Taller 1 Parte A\n",
    "\n",
    "## Métodos Computacionales 2 2023-10\n",
    "\n",
    "Instrucciones: Suba el jupyter notebook **.ipynb** en la actividad de bloque neon. El archivo debe ser nombrado ApellidoNombreApellidoNombre_Taller1_ParteA.ipynb, con su primer Apellido y Nombre de cada integrante de la pareja. **El archivo debe poder correr en el binder del curso** \n",
    "\n",
    "Si un ejercicio demora **más de 10 segundos** en correr se considerará **incorrecto**.\n",
    "\n",
    "No modifique el cuaderno, ni los modos de lectura de los archivos.\n",
    "\n",
    "**Entrega: Miercoles 19 de Abril 11:59 pm**"
   ]
  },
  {
   "cell_type": "markdown",
   "metadata": {
    "id": "TtDSGwXXOzhk"
   },
   "source": [
    "## Problema 1\n",
    "\n",
    "En el github del curso en la carpeta `Datafiles` se encuentra el archivo `linear.csv` el código a continuación lee el archivo y guarda los valores de $x$ y $y$ en los arrays `x[]` y `y[]`.\n",
    "\n",
    "Para poder leer el archivo el notebook debe estar en la misma carpeta `Datafiles`.\n",
    "\n",
    "Basados en el método de los mínimos cuadrados, se puede ajustar una recta $ y = mx + b$. Donde la pendiente y el punto de corte están dados por, \n",
    "\n",
    "\\begin{equation*}\n",
    "     m = \\frac{E_{xy} - E_x E_y}{E_{xx} - E_x^2}, \\qquad b = \\frac{E_{xx}E_y - E_x E_{xy}}{E_{xx} - E_x^2}\n",
    "\\end{equation*}\n",
    "\n",
    "Donde se definen, \n",
    "\n",
    "$$ E_x = \\frac{1}{n}\\sum_{i=1}^n x_i, \\quad E_y = \\frac{1}{n}\\sum_{i=1}^n y_i, \\quad E_{xx} = \\frac{1}{n}\\sum_{i=1}^n x_i^2, \\quad E_{xy} = \\frac{1}{n}\\sum_{i=1}^n x_iy_i $$\n",
    "\n",
    "Modifique el archivo a continuación de forma que evalúe la pendiente y el punto de corte de los datos, guarde la pendiente en la variable `slope `y el punto de corte en la variable `intercept`. Al final incluya el siguiente `cout` para la evaluación de su ejercicio. \n",
    "\n",
    "`cout << \"Slope = \" << slope << \", Intercept = \" << intercept << endl;`\n",
    "\n",
    "Los valores de la pendiente y el intercepto son números entre 0.5 y 10."
   ]
  },
  {
   "cell_type": "code",
   "execution_count": 1,
   "metadata": {
    "colab": {
     "base_uri": "https://localhost:8080/"
    },
    "id": "cT1p4cpH8fJo",
    "outputId": "d4d341d4-9131-4c41-bfdc-4d92280d41cb",
    "vscode": {
     "languageId": "powershell"
    }
   },
   "outputs": [
    {
     "name": "stdout",
     "output_type": "stream",
     "text": [
      "Writing regresion.cpp\n"
     ]
    }
   ],
   "source": [
    "%%writefile regresion.cpp\n",
    "\n",
    "#include <stdio.h>\n",
    "#include <stdlib.h>\n",
    "#include <iostream>\n",
    "#include <fstream>\n",
    "#include <sstream>  \n",
    "#include <math.h>\n",
    "using namespace std;\n",
    "\n",
    "float e_x ( int n,  float x[])\n",
    "{    \n",
    "    float respuesta;\n",
    "    float sum = 0;\n",
    "    \n",
    "    for(int i = 0;  i < n ;  i++) {\n",
    "        sum += x[i];\n",
    "    }\n",
    "\n",
    "    respuesta = sum/n;\n",
    "    return respuesta;\n",
    "}\n",
    "\n",
    "float e_y ( int n,  float y[])\n",
    "{    \n",
    "    float respuesta;   \n",
    "    float sum = 0;\n",
    "    \n",
    "    for(int i = 0;  i < n ;  i++) {\n",
    "        sum += y[i];\n",
    "    }\n",
    "    \n",
    "    respuesta = sum/n;   \n",
    "    return respuesta;\n",
    "}\n",
    "\n",
    "float e_xx ( int n,  float x[])\n",
    "{    \n",
    "    float respuesta;\n",
    "    float sum = 0;\n",
    "    \n",
    "    for(int i = 0;  i < n ;  i++) {\n",
    "        sum += x[i]*x[i];\n",
    "    }\n",
    "    \n",
    "    respuesta = sum/n;\n",
    "    return respuesta;\n",
    "}\n",
    "\n",
    "float e_xy ( int n,  float x[],  float y[])\n",
    "{    \n",
    "    float respuesta;\n",
    "    float sum = 0;\n",
    "    \n",
    "    for(int i = 0;  i < n ;  i++) {\n",
    "        sum += x[i]*y[i];\n",
    "    }\n",
    "    \n",
    "    // casting puede ser necesario\n",
    "    // respuesta = sum / static_cast<float>(n);\n",
    "    respuesta = sum/n;\n",
    "    return respuesta;\n",
    "}\n",
    "\n",
    "\n",
    "\n",
    "int main() \n",
    "{\n",
    "    ifstream  data(\"linear.csv\");\n",
    "    string line;\n",
    "    float x[92];\n",
    "    float y[92];\n",
    "    int i = 0;\n",
    "    while(getline(data,line))\n",
    "    {\n",
    "        stringstream lineStream(line);\n",
    "        string cell;\n",
    "        if (i != 0)\n",
    "        {\n",
    "            \n",
    "            while(getline(lineStream,cell,'\\n'))\n",
    "            {\n",
    "                stringstream lineStreamCell(cell);\n",
    "                string cell_data;\n",
    "                int j = 0;\n",
    "                while(getline(lineStreamCell,cell_data,','))\n",
    "                {\n",
    "                    if (j%2 == 0)\n",
    "                    {\n",
    "                        x[i-1] = stof(cell_data);\n",
    "                    }\n",
    "                    else\n",
    "                    {\n",
    "                        y[i-1] = stof(cell_data);\n",
    "                    }\n",
    "                    j++;\n",
    "                }   \n",
    "            }\n",
    "        }\n",
    "        i++;\n",
    "    }\n",
    "    cout << \"x \\n\";\n",
    "    for (int i = 0; i < 92; i++)\n",
    "    {\n",
    "        cout << x[i] << \" \";\n",
    "    }\n",
    "    cout << \"\\n y \\n\";\n",
    "    for (int i = 0; i < 92; i++)\n",
    "    {\n",
    "        cout << y[i] << \" \";\n",
    "    }\n",
    "    cout << endl;\n",
    "    \n",
    "    // su codigo aqui\n",
    "    int n = 92;\n",
    "    // value vs reference? no hay diferencia en este caso\n",
    "    float slope = ( e_xy(n, x, y) - e_x(n, x)*e_y(n, y) ) / ( e_xx(n, x) - e_x(n, x)*e_x(n, x) );\n",
    "    float intercept = ( e_xx(n, x)*e_y(n, y) - e_x(n, x)*e_xy(n, x, y) ) / ( e_xx(n, x) - e_x(n, x)*e_x(n, x) );\n",
    "    cout << \"Slope = \" << slope << \", Intercept = \" << intercept << endl;\n",
    "    \n",
    "    return 0;\n",
    "}\n"
   ]
  },
  {
   "cell_type": "code",
   "execution_count": 2,
   "metadata": {
    "colab": {
     "base_uri": "https://localhost:8080/"
    },
    "id": "zfxv80gGOLZR",
    "outputId": "ea98b92c-c935-4ade-c8f5-e1ecd510e331",
    "vscode": {
     "languageId": "powershell"
    }
   },
   "outputs": [
    {
     "name": "stdout",
     "output_type": "stream",
     "text": [
      "x \n",
      "82.5832 73.9225 61.84 16.7759 0.0167373 44.4576 10.3449 42.7671 20.8566 16.8291 1.07903 45.6326 89.4127 3.88239 50.245 70.485 1.82741 63.6168 67.1309 66.9741 87.5816 61.3684 29.8904 46.8716 48.4663 94.9988 94.5934 36.3009 54.6346 47.745 49.2978 58.6549 2.33161 17.166 69.8339 71.464 44.5156 6.49994 78.6214 55.2045 17.5669 5.50463 8.45292 87.1252 20.1683 61.4469 84.2732 17.1902 79.8983 91.0412 96.1619 20.3587 59.5961 40.9188 61.9482 5.11139 31.4674 69.2403 52.3486 34.402 92.3249 29.4369 31.2647 55.3072 54.4049 79.4504 99.4323 96.7902 64.563 97.7402 35.9909 52.9095 88.5807 72.6436 81.3612 27.7377 77.0489 84.8616 24.1409 60.3059 68.0198 74.2183 82.3606 4.51968 94.9627 8.85422 37.8841 85.7409 65.1798 24.3338 85.1578 80.5392 \n",
      " y \n",
      "134.907 134.085 114.531 31.3764 8.76463 73.2853 18.8599 72.9466 28.6373 27.1841 15.469 77.2555 147.818 29.6291 92.3157 111.064 2.79749 98.228 117.083 111.156 147.023 99.6287 47.9462 80.5159 76.6516 155.583 155.831 52.6441 100.329 67.0305 80.8896 96.2041 -6.23629 23.5572 107.781 112.884 72.0032 20.2593 131.044 94.7799 28.2106 14.1704 23.1998 147.127 46.8909 105.756 126.466 42.0695 138.628 139.406 163.354 38.2238 105.046 68.541 100.237 15.2018 60.2143 113.935 85.1627 53.3778 160.495 43.3944 58.1737 81.6431 87.6435 135.398 159.074 161.363 91.6448 166.165 54.864 78.9792 141.13 119.088 136.229 35.0396 130.807 136.224 43.3498 106.185 121.274 115.182 137.43 16.0264 141.013 13.4505 61.507 133.922 126.827 50.2578 144.755 120.697 \n",
      "Slope = 1.5832, Intercept = 4.4702\n"
     ]
    }
   ],
   "source": [
    "%%script bash\n",
    "\n",
    "g++ regresion.cpp -o regresion\n",
    "./regresion"
   ]
  },
  {
   "cell_type": "markdown",
   "metadata": {
    "id": "xWbz0ud79j38"
   },
   "source": [
    "## Problema 2\n",
    "\n",
    "Cree una función en `C++`, que tenga la siguiente firma: \n",
    "\n",
    "`void sort(int* ptrA, int* ptrB, int* ptrC)`\n",
    "\n",
    "la cual dados tres punteros de enteros reasigne los valores de `a`, `b`, y `c`, de menor a mayor, es decir, `a` sería el menor, `b` sería el del medio, y `c` sería el mayor. Pueden haber también enteros iguales.\n",
    "\n",
    "No modifique la parte de la función `main()` que realiza los casos de prueba como se encuentra en el archivo."
   ]
  },
  {
   "cell_type": "code",
   "execution_count": 3,
   "metadata": {
    "colab": {
     "base_uri": "https://localhost:8080/"
    },
    "id": "5jChkoGd-UQW",
    "outputId": "10703a03-fc53-46aa-d283-054f7302a3a7",
    "vscode": {
     "languageId": "python"
    }
   },
   "outputs": [
    {
     "name": "stdout",
     "output_type": "stream",
     "text": [
      "Writing sort.cpp\n"
     ]
    }
   ],
   "source": [
    "%%writefile sort.cpp\n",
    "\n",
    "#include <iostream>\n",
    "#include <string>\n",
    "using namespace std;\n",
    "\n",
    "    \n",
    "void sort(int* ptrA, int* ptrB, int* ptrC)\n",
    "{\n",
    "    int tempA = *ptrA;\n",
    "    int tempB = *ptrB;\n",
    "    int tempC = *ptrC;\n",
    "    \n",
    "    int array[3] = {tempA, tempB, tempC};\n",
    "    int maximo = array[0];\n",
    "    for(int i = 1; i < 3; i++){\n",
    "        if (array[i] > maximo) {\n",
    "            maximo = array[i];\n",
    "        }\n",
    "    }\n",
    "    \n",
    "    int minimo = array[0];\n",
    "    for(int i = 1; i < 3; i++){\n",
    "        if (array[i] < minimo) {\n",
    "            minimo = array[i];\n",
    "        }\n",
    "    }\n",
    "    \n",
    "    int medio = tempA + tempB + tempC - maximo - minimo;\n",
    "    \n",
    "    *ptrA = minimo;\n",
    "    *ptrB = medio;\n",
    "    *ptrC = maximo;\n",
    "}\n",
    "\n",
    "int main() {\n",
    "    \n",
    "    int a = 5, b = 3, c = 4;\n",
    "    cout << \"Initial Numbers\" << endl;\n",
    "    cout << a << \" \" << b << \" \" << c << endl;\n",
    "    cout << \"Sorting: \" << endl;\n",
    "    sort(&a, &b, &c);\n",
    "    cout << a << \" \" << b << \" \" << c << endl;\n",
    "    \n",
    "    int d = 500, e = 300, f = 150;\n",
    "    cout << \"Initial Numbers\" << endl;\n",
    "    cout << d << \" \" << e << \" \" << f << endl;\n",
    "    cout << \"Sorting: \" << endl;\n",
    "    sort(&d, &e, &f);\n",
    "    cout << d << \" \" << e << \" \" << f << endl;\n",
    "    \n",
    "    int g = 156, h = 121, i = 121;\n",
    "    cout << \"Initial Numbers\" << endl;\n",
    "    cout << g << \" \" << h << \" \" << i << endl;\n",
    "    cout << \"Sorting: \" << endl;\n",
    "    sort(&g, &h, &i);\n",
    "    cout << g << \" \" << h << \" \" << i << endl;\n",
    "    \n",
    "    int j = 102, k = 105, l = 221;\n",
    "    cout << \"Initial Numbers\" << endl;\n",
    "    cout << j << \" \" << k << \" \" << l << endl;\n",
    "    cout << \"Sorting: \" << endl;\n",
    "    sort(&j, &k, &l);\n",
    "    cout << j << \" \" << k << \" \" << l << endl;\n",
    "    \n",
    "    return 0;\n",
    "}\n"
   ]
  },
  {
   "cell_type": "code",
   "execution_count": 4,
   "metadata": {
    "id": "KaOtxtslP-Ti",
    "vscode": {
     "languageId": "python"
    }
   },
   "outputs": [
    {
     "name": "stdout",
     "output_type": "stream",
     "text": [
      "Initial Numbers\n",
      "5 3 4\n",
      "Sorting: \n",
      "3 4 5\n",
      "Initial Numbers\n",
      "500 300 150\n",
      "Sorting: \n",
      "150 300 500\n",
      "Initial Numbers\n",
      "156 121 121\n",
      "Sorting: \n",
      "121 121 156\n",
      "Initial Numbers\n",
      "102 105 221\n",
      "Sorting: \n",
      "102 105 221\n"
     ]
    }
   ],
   "source": [
    "%%script bash\n",
    "\n",
    "g++ sort.cpp -o sort\n",
    "./sort"
   ]
  }
 ],
 "metadata": {
  "colab": {
   "provenance": []
  },
  "kernelspec": {
   "display_name": "Python 3 (ipykernel)",
   "language": "python",
   "name": "python3"
  },
  "language_info": {
   "codemirror_mode": {
    "name": "ipython",
    "version": 3
   },
   "file_extension": ".py",
   "mimetype": "text/x-python",
   "name": "python",
   "nbconvert_exporter": "python",
   "pygments_lexer": "ipython3",
   "version": "3.10.9"
  }
 },
 "nbformat": 4,
 "nbformat_minor": 4
}
