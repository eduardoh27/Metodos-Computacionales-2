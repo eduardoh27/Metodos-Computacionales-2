{
  "cells": [
    {
      "cell_type": "markdown",
      "id": "Ca47pvrzRXMy",
      "metadata": {
        "id": "Ca47pvrzRXMy"
      },
      "source": [
        "## Librerias"
      ]
    },
    {
      "cell_type": "code",
      "execution_count": null,
      "id": "6f64d18c-e6fe-4328-a15d-9344842eabd1",
      "metadata": {
        "id": "6f64d18c-e6fe-4328-a15d-9344842eabd1"
      },
      "outputs": [],
      "source": [
        "import numpy as np\n",
        "import matplotlib.pyplot as plt"
      ]
    },
    {
      "cell_type": "markdown",
      "id": "Qiz2hMpLECsY",
      "metadata": {
        "id": "Qiz2hMpLECsY"
      },
      "source": [
        "## Problema \n",
        "\n",
        "Considere un péndulo forzado cuyo movimiento cumple la siguiente ecuación diferencial, \n",
        "\n",
        "$$\n",
        "\\frac{d^2{\\theta}}{d^2t}=-\\frac{g}{l}\\sin{\\theta}+C\\cos{\\theta}\\sin{\\Omega t},\n",
        "$$\n",
        "\n",
        "donde $C$ y $\\Omega$ son constantes.\n",
        "\n"
      ]
    },
    {
      "attachments": {},
      "cell_type": "markdown",
      "id": "hv8ZeECvdhb2",
      "metadata": {
        "id": "hv8ZeECvdhb2"
      },
      "source": [
        "a) Escriba la ecuación como un sistema dos ecuaciones diferenciales de primer orden.\n",
        "\n",
        "Sus ecuaciones aqui\n",
        "\n",
        "$$ \\frac{d\\theta}{dt} = \\omega $$\n",
        "$$ \\frac{d\\omega}{dt} =  -\\frac{g}{l}\\sin{\\theta} + C\\cos{\\theta} \\sin{\\Omega t}$$"
      ]
    },
    {
      "attachments": {},
      "cell_type": "markdown",
      "id": "_kVtkhamdxRo",
      "metadata": {
        "id": "_kVtkhamdxRo"
      },
      "source": [
        "b) El metodo Runge-Kutta para ecuaciones diff de primer orden está dado por, \n",
        "\n",
        "$$\\frac{dy(t)}{dt} = f(t, y)$$\n",
        "\n",
        "$$y_{n+1}=y_n+\\frac{1}{6}(k_1 +2k_2+2k_3+k_4)$$\n",
        "\n",
        "\\begin{align}\n",
        "k_1 &= hf(t_n,y_n) \\\\\n",
        "k_2 &= hf\\left( t_n + \\frac{h}{2},\\, y_n + \\frac{k_1}{2}\\right)\\\\\n",
        "k_3 &= hf\\left( t_n + \\frac{h}{2},\\, y_n + \\frac{k_2}{2}\\right)\\\\\n",
        "k_4 &= hf(t_n + h,y_n + k_3)\n",
        "\\end{align}\n",
        "\n",
        "Mientras que el método Runge-Kutta para ecuaciones diff de segundo orden está dado por,\n",
        "\n",
        "\n",
        " ![](https://raw.githubusercontent.com/diegour1/MetodosComputacionales2/main/Datafiles/runge%20kutta%202nd%20order.png)\n",
        "\n",
        " Explique en breves palabras las ecuaciones para el segundo orden de Runge Kutta.\n",
        "\n",
        "Su texto aqui, \n",
        "\n",
        "El método de segundo orden consiste esencialmente en aplicar al mismo tiempo dos métodos de Runge Kutta de primer orden. Para lo anterior, se divide la ecuación de segundo grado en dos ecuaciones de primer grado."
      ]
    },
    {
      "cell_type": "markdown",
      "id": "1pOQFFnTiyYi",
      "metadata": {
        "id": "1pOQFFnTiyYi"
      },
      "source": [
        "c) Usando la implementación de Runge Kutta en primer orden del siguiente [notebook](https://github.com/diegour1/MetodosComputacionales2/blob/main/Notebooks/06%20-%20first_order_differential_equations.ipynb), implemente el metodo de runge-kutta de 2do orden.\n",
        "\n",
        "Pista: Existen dos formas de implementar runge kutta 2do orden, planteando las ecuaciones anteriores de forma completa, o planteando runge-kutta de una forma vectorial donde $[d\\theta/dt, d\\omega/dt] = [F(\\theta, \\omega, t), f(\\theta, \\omega, t)]$"
      ]
    },
    {
      "cell_type": "code",
      "execution_count": null,
      "id": "YxAlxUoHdLeK",
      "metadata": {
        "id": "YxAlxUoHdLeK"
      },
      "outputs": [],
      "source": [
        "### su codigo aqui\n",
        "\n",
        "### su codigo aqui\n",
        "\n",
        "# notebook\n",
        "\n",
        "\n",
        "def runge_kutta_cuarto_orden(f, y0, t0, tf, h):\n",
        "\n",
        "  ys = [y0]\n",
        "  h_medios = h*0.5\n",
        "  un_sexto = 1.0 / 6.0\n",
        "  for t in np.arange(t0, tf, h):\n",
        "    k1 = h * f(t, y0)\n",
        "    k2 = h * f(t + h_medios, y0 + k1*0.5)\n",
        "    k3 = h * f(t + h_medios, y0 + k2*0.5)\n",
        "    k4 = h * f(t + h, y0 + k3)\n",
        "    y1 = y0 + un_sexto*(k1 + 2*k2 + 2*k3 + k4)\n",
        "    ys.append(y1)\n",
        "    y0 = y1\n",
        "  return np.linspace(t0,tf,len(ys)), np.array(ys)\n",
        "\n",
        "def f0(t, y):\n",
        "  return y*np.sin(t)**2\n",
        "\n",
        "y0 = 2.0\n",
        "t0 = 0.0\n",
        "tf = 4.0\n",
        "h = 0.5\n",
        "\n",
        "t, y_rk4 = runge_kutta_cuarto_orden(f0, y0, t0, tf, h)\n",
        "\n",
        "\n",
        "# yo\n",
        "\n",
        "def runge_kutta_cuarto_orden_segundo_grado(f, v0, t0, tf, h, x0):\n",
        "\n",
        "  #ys = [y0]\n",
        "  vs = [v0]\n",
        "  xs = [x0]\n",
        "  \n",
        "  #h_medios = h*0.5\n",
        "  #un_sexto = 1.0 / 6.0\n",
        "  \n",
        "  for t in np.arange(t0, tf, h):\n",
        "\n",
        "    #k1 = h * f(t, y0)\n",
        "    l1 = h * f(x0, v0, t)\n",
        "    k1 = h * v0\n",
        "\n",
        "    #k2 = h * f(t + h_medios, y0 + k1*0.5)\n",
        "    l2 = h * f(x0 + k1/2, v0 + l1/2, t + h/2)\n",
        "    k2 = h * (v0 + l1/2)\n",
        "    \n",
        "    #k3 = h * f(t + h_medios, y0 + k2*0.5)\n",
        "    l3 = h * f(x0 + k2/2, v0 + l2/2, t + h/2)\n",
        "    k3 = h * (v0 + l2/2)\n",
        "\n",
        "    #k4 = h * f(t + h, y0 + k3)\n",
        "    l4 = h * f(x0 + k3, v0 + l3, t + h)\n",
        "    k4 = h * (v0 + l3)\n",
        "\n",
        "    #y1 = y0 + un_sexto*(k1 + 2*k2 + 2*k3 + k4)\n",
        "    v1 = v0 + (l1 + 2*l2 + 2*l3 + l4)/6 \n",
        "    #ys.append(y1)\n",
        "    vs.append(v1)\n",
        "    #y0 = y1\n",
        "    v0 = v1\n",
        "\n",
        "    x1 = x0 + (k1 + 2*k2 + 2*k3 + k4)/6\n",
        "    xs.append(x1)\n",
        "    x0 = x1\n",
        "  return np.linspace(t0,tf,len(vs)), np.array(vs), np.array(xs)\n",
        "\n",
        "def f(x, v, t):\n",
        "  return -(g/l)*np.sin(x) + C*np.cos(x)*np.sin(Omega*t)\n",
        "\n",
        "\n",
        "  "
      ]
    },
    {
      "cell_type": "markdown",
      "id": "UWV5ci8qmtGJ",
      "metadata": {
        "id": "UWV5ci8qmtGJ"
      },
      "source": [
        "d) Resuelva la ecuación de $\\theta$ en función de $t$ con $l = 10 \\text{cm}$, $C = 2\\text{s}^{-2}$, y $\\Omega = 5 \\text{s}^{-1}$. Genere un gráfico de $\\theta$ en función del tiempo desde $t=0$ s hasta $t=10$ s. Las condiciones iniciales son $\\theta = 0$ y $\\text{d}\\theta/\\text{d}t = 0$."
      ]
    },
    {
      "cell_type": "code",
      "execution_count": 1,
      "id": "Kbvv7ZGLnUhZ",
      "metadata": {
        "id": "Kbvv7ZGLnUhZ"
      },
      "outputs": [],
      "source": [
        "# su codigo aqui\n",
        "\n",
        "y0 = 2.0\n",
        "t0 = 0.0\n",
        "tf = 4.0\n",
        "h = 0.5\n",
        "\n",
        "#t, y_rk4 = runge_kutta_cuarto_orden(f, y0, t0, tf, h)\n",
        "\n",
        "l = 0.1 # m\n",
        "g = 9.8\n",
        "t0 = 0.0\n",
        "tf = 10.0\n",
        "C = 2\n",
        "Omega = 5   \n",
        "v0 = 0\n",
        "h = 0.01 # dado por el profesor\n",
        "x0 = 0\n",
        "t, v_rk4, x_rk4 = runge_kutta_cuarto_orden_segundo_grado(f, v0, t0, tf, h, x0)\n",
        "\n",
        "plt.figure(figsize=(7,7))\n",
        "plt.plot(t, x_rk4, label = 'Runge-Kutta 4')\n"
      ]
    }
  ],
  "metadata": {
    "colab": {
      "provenance": []
    },
    "kernelspec": {
      "display_name": "Python 3 (ipykernel)",
      "language": "python",
      "name": "python3"
    },
    "language_info": {
      "codemirror_mode": {
        "name": "ipython",
        "version": 3
      },
      "file_extension": ".py",
      "mimetype": "text/x-python",
      "name": "python",
      "nbconvert_exporter": "python",
      "pygments_lexer": "ipython3",
      "version": "3.10.6"
    }
  },
  "nbformat": 4,
  "nbformat_minor": 5
}
