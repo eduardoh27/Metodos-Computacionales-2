{
  "cells": [
    {
      "cell_type": "markdown",
      "source": [
        "## Librerias"
      ],
      "metadata": {
        "id": "Ca47pvrzRXMy"
      },
      "id": "Ca47pvrzRXMy"
    },
    {
      "cell_type": "code",
      "execution_count": null,
      "id": "6f64d18c-e6fe-4328-a15d-9344842eabd1",
      "metadata": {
        "id": "6f64d18c-e6fe-4328-a15d-9344842eabd1"
      },
      "outputs": [],
      "source": [
        "import numpy as np\n",
        "import matplotlib.pyplot as plt"
      ]
    },
    {
      "cell_type": "markdown",
      "source": [
        "## Problema \n",
        "\n",
        "Considere un péndulo forzado cuyo movimiento cumple la siguiente ecuación diferencial, \n",
        "\n",
        "$$\n",
        "\\frac{d^2{\\theta}}{d^2t}=-\\frac{g}{l}\\sin{\\theta}+C\\cos{\\theta}\\sin{\\Omega t},\n",
        "$$\n",
        "\n",
        "donde $C$ y $\\Omega$ son constantes.\n",
        "\n"
      ],
      "metadata": {
        "id": "Qiz2hMpLECsY"
      },
      "id": "Qiz2hMpLECsY"
    },
    {
      "cell_type": "markdown",
      "source": [
        "a) Escriba la ecuación como un sistema dos ecuaciones diferenciales de primer orden.\n",
        "\n",
        "Sus ecuaciones aqui\n",
        "\n",
        ".\n",
        "\n",
        ".\n",
        "\n",
        ".\n",
        "\n",
        ".\n",
        "\n",
        "."
      ],
      "metadata": {
        "id": "hv8ZeECvdhb2"
      },
      "id": "hv8ZeECvdhb2"
    },
    {
      "cell_type": "markdown",
      "source": [
        "b) El metodo Runge-Kutta para ecuaciones diff de primer orden está dado por, \n",
        "\n",
        "$$\\frac{dy(t)}{dt} = f(t, y)$$\n",
        "\n",
        "$$y_{n+1}=y_n+\\frac{1}{6}(k_1 +2k_2+2k_3+k_4)$$\n",
        "\n",
        "\\begin{align}\n",
        "k_1 &= hf(t_n,y_n) \\\\\n",
        "k_2 &= hf\\left( t_n + \\frac{h}{2},\\, y_n + \\frac{k_1}{2}\\right)\\\\\n",
        "k_3 &= hf\\left( t_n + \\frac{h}{2},\\, y_n + \\frac{k_2}{2}\\right)\\\\\n",
        "k_4 &= hf(t_n + h,y_n + k_3)\n",
        "\\end{align}\n",
        "\n",
        "Mientras que el método Runge-Kutta para ecuaciones diff de segundo orden está dado por,\n",
        "\n",
        "\n",
        " ![](https://raw.githubusercontent.com/diegour1/MetodosComputacionales2/main/Datafiles/runge%20kutta%202nd%20order.png)\n",
        "\n",
        " Explique en breves palabras las ecuaciones para el segundo orden de Runge Kutta.\n",
        "\n",
        "Su texto aqui, \n",
        "\n",
        ".\n",
        "\n",
        ".\n",
        "\n",
        ".\n",
        "\n",
        ".\n",
        "\n",
        "."
      ],
      "metadata": {
        "id": "_kVtkhamdxRo"
      },
      "id": "_kVtkhamdxRo"
    },
    {
      "cell_type": "markdown",
      "source": [
        "c) Usando la implementación de Runge Kutta en primer orden del siguiente [notebook](https://github.com/diegour1/MetodosComputacionales2/blob/main/Notebooks/06%20-%20first_order_differential_equations.ipynb), implemente el metodo de runge-kutta de 2do orden.\n",
        "\n",
        "Pista: Existen dos formas de implementar runge kutta 2do orden, planteando las ecuaciones anteriores de forma completa, o planteando runge-kutta de una forma vectorial donde $[d\\theta/dt, d\\omega/dt] = [F(\\theta, \\omega, t), f(\\theta, \\omega, t)]$"
      ],
      "metadata": {
        "id": "1pOQFFnTiyYi"
      },
      "id": "1pOQFFnTiyYi"
    },
    {
      "cell_type": "code",
      "source": [
        "### su codigo aqui\n"
      ],
      "metadata": {
        "id": "YxAlxUoHdLeK"
      },
      "id": "YxAlxUoHdLeK",
      "execution_count": null,
      "outputs": []
    },
    {
      "cell_type": "markdown",
      "source": [
        "d) Resuelva la ecuación de $\\theta$ en función de $t$ con $l = 10 \\text{cm}$, $C = 2\\text{s}^{-2}$, y $\\Omega = 5 \\text{s}^{-1}$. Genere un gráfico de $\\theta$ en función del tiempo desde $t=0$ s hasta $t=10$ s. Las condiciones iniciales son $\\theta = 0$ y $\\text{d}\\theta/\\text{d}t = 0$."
      ],
      "metadata": {
        "id": "UWV5ci8qmtGJ"
      },
      "id": "UWV5ci8qmtGJ"
    },
    {
      "cell_type": "code",
      "source": [
        "# su codigo aqui\n",
        "\n"
      ],
      "metadata": {
        "id": "Kbvv7ZGLnUhZ"
      },
      "id": "Kbvv7ZGLnUhZ",
      "execution_count": 1,
      "outputs": []
    }
  ],
  "metadata": {
    "kernelspec": {
      "display_name": "Python 3 (ipykernel)",
      "language": "python",
      "name": "python3"
    },
    "language_info": {
      "codemirror_mode": {
        "name": "ipython",
        "version": 3
      },
      "file_extension": ".py",
      "mimetype": "text/x-python",
      "name": "python",
      "nbconvert_exporter": "python",
      "pygments_lexer": "ipython3",
      "version": "3.7.12"
    },
    "colab": {
      "provenance": []
    }
  },
  "nbformat": 4,
  "nbformat_minor": 5
}