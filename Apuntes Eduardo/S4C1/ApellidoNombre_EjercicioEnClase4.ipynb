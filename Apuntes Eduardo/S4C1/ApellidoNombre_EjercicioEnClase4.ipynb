{
  "cells": [
    {
      "cell_type": "markdown",
      "source": [
        "## Librerias"
      ],
      "metadata": {
        "id": "Ca47pvrzRXMy"
      },
      "id": "Ca47pvrzRXMy"
    },
    {
      "cell_type": "code",
      "execution_count": null,
      "id": "6f64d18c-e6fe-4328-a15d-9344842eabd1",
      "metadata": {
        "id": "6f64d18c-e6fe-4328-a15d-9344842eabd1"
      },
      "outputs": [],
      "source": [
        "import numpy as np\n",
        "import matplotlib.pyplot as plt"
      ]
    },
    {
      "cell_type": "markdown",
      "source": [
        "## Problema \n",
        "\n",
        "En este problema vamos a estudiar la tranformada discreta de Fourier para el análisis de imagenes. Considere la imagen \"blurredcity.png\", de la cual tomamos solo una sección de la imagen. Para poder leer la imagen este notebook debe estar en la carpeta Datafiles del github del curso."
      ],
      "metadata": {
        "id": "Qiz2hMpLECsY"
      },
      "id": "Qiz2hMpLECsY"
    },
    {
      "cell_type": "code",
      "source": [
        "# Lectura de la imagen de circulos, no modificar\n",
        "image_city = plt.imread('blurredcity.png').astype(float)\n",
        "circles_image = image_city[300:350, 170:220]\n",
        "\n",
        "plt.imshow(circles_image)"
      ],
      "metadata": {
        "colab": {
          "base_uri": "https://localhost:8080/",
          "height": 449
        },
        "id": "7_uMQ2WdPfvP",
        "outputId": "cbcc94dd-083e-4ceb-8ea3-cae13f1c4264"
      },
      "id": "7_uMQ2WdPfvP",
      "execution_count": null,
      "outputs": [
        {
          "output_type": "execute_result",
          "data": {
            "text/plain": [
              "<matplotlib.image.AxesImage at 0x7f55303b37c0>"
            ]
          },
          "metadata": {},
          "execution_count": 7
        },
        {
          "output_type": "display_data",
          "data": {
            "text/plain": [
              "<Figure size 640x480 with 1 Axes>"
            ],
            "image/png": "[encoded data removed]"
          },
          "metadata": {}
        }
      ]
    },
    {
      "cell_type": "markdown",
      "source": [
        "a) Implemente la transformada discreta de Fourier en 2D dada por, \n",
        "\n",
        "$$\n",
        "  F[k, l] = \\frac{1}{\\sqrt{MN}}\\sum_{m=0}^{M-1}\\sum_{n=0}^{N-1}f[m, n]\\exp{\\Big[-i2\\pi\\big(\\frac{km}{M}+ \\frac{ln}{N}\\big)\\Big]}\n",
        "$$\n",
        "\n",
        "La cual recibe una imagen de dimensión (m, n), y retorna una matrix de dimensión (m, n) que corresponde al espacio de frecuencias."
      ],
      "metadata": {
        "id": "JJwyc3HpdNcK"
      },
      "id": "JJwyc3HpdNcK"
    },
    {
      "cell_type": "code",
      "source": [
        "def DFT_lenta_2D(image_param):\n",
        "    N = image_param.shape[0]\n",
        "    M = image_param.shape[1]\n",
        "    frequency_matrix = np.zeros((N, M)).astype(complex)\n",
        "    ## tu codigo aqui\n",
        "\n",
        "    return frequency_matrix\n",
        "\n",
        "frequency_image = DFT_lenta_2D(circles_image)"
      ],
      "metadata": {
        "id": "p01s_X5jQSNQ"
      },
      "id": "p01s_X5jQSNQ",
      "execution_count": null,
      "outputs": []
    },
    {
      "cell_type": "markdown",
      "source": [
        "b) Realice un grafico que muestre la imagen en el espacio de frecuencias. "
      ],
      "metadata": {
        "id": "Rp1cTqzQe4DS"
      },
      "id": "Rp1cTqzQe4DS"
    },
    {
      "cell_type": "code",
      "source": [
        "# su codigo aqui\n",
        "\n"
      ],
      "metadata": {
        "id": "mVgc3gx0U0gB"
      },
      "id": "mVgc3gx0U0gB",
      "execution_count": null,
      "outputs": []
    },
    {
      "cell_type": "markdown",
      "source": [
        "c) A partir de la imagen de frecuencias, implemente la transformada discreta de Fourier inversa dada por, \n",
        "\n",
        "$$\n",
        "  f[m, n] = \\frac{1}{\\sqrt{MN}}\\sum_{k=0}^{M-1}\\sum_{l=0}^{N-1}F[k, l]\\exp{\\Big[i2\\pi\\big(\\frac{km}{M}+ \\frac{ln}{N}\\big)\\Big]}\n",
        "$$\n",
        "\n",
        "La cual transforma una imagen de (m, n) del espacio de frecuencias, a una matrix (m, n) del espacio de pixeles de la imagen."
      ],
      "metadata": {
        "id": "4bJmvlQwfZ6J"
      },
      "id": "4bJmvlQwfZ6J"
    },
    {
      "cell_type": "code",
      "source": [
        "def DFT_lenta_inversa_2D(image_param):\n",
        "    N = image_param.shape[0]\n",
        "    M = image_param.shape[1]\n",
        "    time_matrix = np.zeros((N, M)).astype(complex)\n",
        "    # su codigo aqui\n",
        "\n",
        "    return time_matrix\n",
        "\n",
        "new_image = DFT_lenta_inversa_2D(frequency_image)"
      ],
      "metadata": {
        "colab": {
          "base_uri": "https://localhost:8080/"
        },
        "id": "R6lKZV7GZWb_",
        "outputId": "0c9b21d0-158b-4c7a-fc40-822f84591e15"
      },
      "id": "R6lKZV7GZWb_",
      "execution_count": null,
      "outputs": [
        {
          "output_type": "stream",
          "name": "stdout",
          "text": [
            "50 50\n"
          ]
        }
      ]
    },
    {
      "cell_type": "markdown",
      "source": [
        "d) Realice un grafico que muestre la nueva imagen en el espacio de pixeles. "
      ],
      "metadata": {
        "id": "KPWIw5aIgiQk"
      },
      "id": "KPWIw5aIgiQk"
    },
    {
      "cell_type": "code",
      "source": [
        "# su codigo aqui\n"
      ],
      "metadata": {
        "id": "b6Td5pPoZ5NO"
      },
      "id": "b6Td5pPoZ5NO",
      "execution_count": null,
      "outputs": []
    },
    {
      "cell_type": "markdown",
      "source": [
        "e) Qué pasos seguiría usted para limpiar el ruido de una imagen?\n",
        "\n",
        "Su texto aqui\n",
        "\n",
        ".\n",
        "\n",
        ".\n",
        "\n",
        ".\n",
        "\n",
        ".\n",
        "\n",
        "."
      ],
      "metadata": {
        "id": "GbLO2aw6gzoz"
      },
      "id": "GbLO2aw6gzoz"
    }
  ],
  "metadata": {
    "kernelspec": {
      "display_name": "Python 3 (ipykernel)",
      "language": "python",
      "name": "python3"
    },
    "language_info": {
      "codemirror_mode": {
        "name": "ipython",
        "version": 3
      },
      "file_extension": ".py",
      "mimetype": "text/x-python",
      "name": "python",
      "nbconvert_exporter": "python",
      "pygments_lexer": "ipython3",
      "version": "3.7.12"
    },
    "colab": {
      "provenance": []
    }
  },
  "nbformat": 4,
  "nbformat_minor": 5
}